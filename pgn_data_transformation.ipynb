{
 "cells": [
  {
   "cell_type": "code",
   "execution_count": null,
   "metadata": {},
   "outputs": [],
   "source": [
    "import chess.pgn\n",
    "import pandas as pd\n",
    "\n",
    "# Open the PGN file\n",
    "with open(\"./data/ficsgamesdb_2010_titled_nomovetimes_287687.pgn\") as f:\n",
    "    data = []\n",
    "    while True:\n",
    "        # Read the next game in the PGN file\n",
    "        game = chess.pgn.read_game(f)\n",
    "\n",
    "        if game.headers['Result'] == '1/2-1/2':\n",
    "            continue\n",
    "\n",
    "        board = game.board()\n",
    "        moves_list = []\n",
    "\n",
    "        for move in game.mainline_moves():\n",
    "            # Convert the move to algebraic notation\n",
    "            algebraic_move = board.san(move)\n",
    "            # Add the algebraic move to the moves list\n",
    "            moves_list.append(algebraic_move)\n",
    "            # Make the move on the board\n",
    "            board.push(move)\n",
    "\n",
    "        winner = \"white\" if game.headers['Result'] == \"1-0\" else 'black'\n",
    "        moves = \" \".join(moves_list)\n",
    "        entry = {'winner': winner, 'moves': moves}\n",
    "        data.append(entry)\n",
    "        print(len(data), end='\\r')\n",
    "        # Break the loop if no more games are found\n",
    "        if game is None:\n",
    "            break"
   ]
  },
  {
   "cell_type": "code",
   "execution_count": null,
   "metadata": {},
   "outputs": [],
   "source": [
    "df = pd.DataFrame(data)\n",
    "\n",
    "# Save the DataFrame to a CSV file\n",
    "df.to_csv('./data/chess_data_2010_titled.csv', index=False)"
   ]
  }
 ],
 "metadata": {
  "kernelspec": {
   "display_name": "Python 3",
   "language": "python",
   "name": "python3"
  },
  "language_info": {
   "codemirror_mode": {
    "name": "ipython",
    "version": 3
   },
   "file_extension": ".py",
   "mimetype": "text/x-python",
   "name": "python",
   "nbconvert_exporter": "python",
   "pygments_lexer": "ipython3",
   "version": "3.10.6"
  },
  "orig_nbformat": 4
 },
 "nbformat": 4,
 "nbformat_minor": 2
}
