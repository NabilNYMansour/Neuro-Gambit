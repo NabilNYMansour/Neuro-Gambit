{
 "cells": [
  {
   "cell_type": "code",
   "execution_count": 3,
   "metadata": {},
   "outputs": [
    {
     "name": "stdout",
     "output_type": "stream",
     "text": [
      "      winner  white_rating  black_rating  \\\n",
      "0      white          1500          1191   \n",
      "1      black          1322          1261   \n",
      "2      white          1496          1500   \n",
      "3      white          1439          1454   \n",
      "4      white          1523          1469   \n",
      "...      ...           ...           ...   \n",
      "20053  white          1691          1220   \n",
      "20054  black          1233          1196   \n",
      "20055  white          1219          1286   \n",
      "20056  white          1360          1227   \n",
      "20057  black          1235          1339   \n",
      "\n",
      "                                                   moves  \n",
      "0      d4 d5 c4 c6 cxd5 e6 dxe6 fxe6 Nf3 Bb4+ Nc3 Ba5...  \n",
      "1      d4 Nc6 e4 e5 f4 f6 dxe5 fxe5 fxe5 Nxe5 Qd4 Nc6...  \n",
      "2      e4 e5 d3 d6 Be3 c6 Be2 b5 Nd2 a5 a4 c5 axb5 Nc...  \n",
      "3      d4 d5 Nf3 Bf5 Nc3 Nf6 Bf4 Ng4 e3 Nc6 Be2 Qd7 O...  \n",
      "4      e4 e5 Nf3 d6 d4 Nc6 d5 Nb4 a3 Na6 Nc3 Be7 b4 N...  \n",
      "...                                                  ...  \n",
      "20053  d4 f5 e3 e6 Nf3 Nf6 Nc3 b6 Be2 Bb7 O-O Be7 Ne5...  \n",
      "20054  d4 d6 Bf4 e5 Bg3 Nf6 e3 exd4 exd4 d5 c3 Bd6 Bd...  \n",
      "20055  d4 d5 Bf4 Nc6 e3 Nf6 c3 e6 Nf3 Be7 Bd3 O-O Nbd...  \n",
      "20056  e4 d6 d4 Nf6 e5 dxe5 dxe5 Qxd1+ Kxd1 Nd5 c4 Nb...  \n",
      "20057  d4 d5 Bf4 Na6 e3 e6 c3 Nf6 Nf3 Bd7 Nbd2 b5 Bd3...  \n",
      "\n",
      "[20058 rows x 4 columns]\n"
     ]
    }
   ],
   "source": [
    "import pandas as pd\n",
    "\n",
    "games = pd.read_csv('./data/games_filtered_1.csv')\n",
    "print(games)\n"
   ]
  },
  {
   "cell_type": "code",
   "execution_count": 4,
   "metadata": {},
   "outputs": [
    {
     "name": "stdout",
     "output_type": "stream",
     "text": [
      "      winner  white_rating  black_rating  \\\n",
      "0      white          1523          1469   \n",
      "1      white          1520          1423   \n",
      "2      black          1413          2108   \n",
      "3      black          1381          1867   \n",
      "4      black          1381          1936   \n",
      "...      ...           ...           ...   \n",
      "12234  white          1550          1250   \n",
      "12235  black          1263          1770   \n",
      "12236  white          1759          1265   \n",
      "12237  white          1523          1256   \n",
      "12238  white          1691          1220   \n",
      "\n",
      "                                                   moves  \n",
      "0      e4 e5 Nf3 d6 d4 Nc6 d5 Nb4 a3 Na6 Nc3 Be7 b4 N...  \n",
      "1      d4 d5 e4 dxe4 Nc3 Nf6 f3 exf3 Nxf3 Nc6 Bb5 a6 ...  \n",
      "2                         e4 Nc6 d4 e5 d5 Nce7 c3 Ng6 b4  \n",
      "3      e4 e6 d4 d5 e5 c5 c3 Nc6 Nf3 Qb6 Be3 Qxb2 Nbd2...  \n",
      "4      e4 e6 Nf3 d5 exd5 exd5 Qe2+ Be7 Nc3 Nf6 d4 O-O...  \n",
      "...                                                  ...  \n",
      "12234  e4 e5 Nf3 Nc6 Bc4 Bc5 b4 Bxb4 c3 Ba5 Qb3 Qf6 O...  \n",
      "12235  d4 d5 Bf4 Bf5 e3 Nf6 c3 e6 Nf3 Nh5 Bg5 f6 Bh4 ...  \n",
      "12236  e4 d6 d4 Nf6 Nc3 Nbd7 f4 e5 Nf3 Be7 dxe5 dxe5 ...  \n",
      "12237  e4 e6 d4 d5 e5 Nc6 Nf3 f6 Bb5 Bd7 O-O Nge7 exf...  \n",
      "12238  d4 f5 e3 e6 Nf3 Nf6 Nc3 b6 Be2 Bb7 O-O Be7 Ne5...  \n",
      "\n",
      "[12239 rows x 4 columns]\n"
     ]
    }
   ],
   "source": [
    "# Filtering\n",
    "min_elo = 1500\n",
    "games = games[\n",
    "    (games['winner'] == 'white') & (games['white_rating'] > min_elo) |\n",
    "    (games['winner'] == 'black') & (games['black_rating'] > min_elo)\n",
    "    ]\n",
    "games = games.reset_index()\n",
    "games = games[['winner', 'white_rating', 'black_rating', 'moves']]\n",
    "print(games)"
   ]
  },
  {
   "cell_type": "code",
   "execution_count": null,
   "metadata": {},
   "outputs": [],
   "source": [
    "games.to_csv(\"./data/games_1500.csv\")"
   ]
  }
 ],
 "metadata": {
  "kernelspec": {
   "display_name": "Python 3",
   "language": "python",
   "name": "python3"
  },
  "language_info": {
   "codemirror_mode": {
    "name": "ipython",
    "version": 3
   },
   "file_extension": ".py",
   "mimetype": "text/x-python",
   "name": "python",
   "nbconvert_exporter": "python",
   "pygments_lexer": "ipython3",
   "version": "3.10.6"
  },
  "orig_nbformat": 4
 },
 "nbformat": 4,
 "nbformat_minor": 2
}
