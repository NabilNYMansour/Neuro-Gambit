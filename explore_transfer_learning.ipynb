{
 "cells": [
  {
   "cell_type": "code",
   "execution_count": null,
   "metadata": {},
   "outputs": [],
   "source": [
    "import torch\n",
    "import torch.nn as nn\n",
    "from torchvision import models\n",
    "\n",
    "device = torch.device('cuda' if torch.cuda.is_available() else 'cpu')\n",
    "\n",
    "elo_or_year = 2000\n",
    "\n",
    "size = 25\n",
    "\n",
    "X : torch.Tensor = torch.load('./large_data/X_tensor_'+str(elo_or_year)+'.pt')[:size].to(device)\n",
    "Y : torch.Tensor = torch.load('./large_data/Y_tensor_'+str(elo_or_year)+'.pt')[:size].to(device)\n",
    "\n",
    "print(X.shape)\n",
    "print(Y.shape)\n",
    "\n",
    "print(X.device)"
   ]
  },
  {
   "cell_type": "code",
   "execution_count": null,
   "metadata": {},
   "outputs": [],
   "source": [
    "from model import Neuro_gambit_resnet\n",
    "\n",
    "model = Neuro_gambit_resnet().to(device)\n",
    "\n",
    "with torch.no_grad():\n",
    "    x = X[0]\n",
    "    print(x.shape)\n",
    "    y = model(x)\n",
    "    print(y)\n"
   ]
  },
  {
   "cell_type": "code",
   "execution_count": null,
   "metadata": {},
   "outputs": [],
   "source": [
    "model = models.resnet50(weights=True).to(device)\n",
    "\n",
    "print(model)"
   ]
  },
  {
   "cell_type": "code",
   "execution_count": null,
   "metadata": {},
   "outputs": [],
   "source": [
    "\n",
    "for param in model.parameters():\n",
    "    param.requires_grad = False\n",
    "\n",
    "input_layer = nn.Linear(833, 3 * 32 * 32).to(device)\n",
    "output_layer = nn.Linear(1000, 36).to(device)\n",
    "\n",
    "with torch.no_grad():\n",
    "    x = X\n",
    "    print(x.shape)\n",
    "    x = input_layer(x)\n",
    "    print(x.shape)\n",
    "    x = x.view(-1, 3, 32, 32)\n",
    "    print(x.shape)\n",
    "    print('--------------------------')\n",
    "    y = model(x)\n",
    "    print(y.shape)\n",
    "    y = output_layer(y)\n",
    "    print(y.shape)"
   ]
  }
 ],
 "metadata": {
  "kernelspec": {
   "display_name": "Python 3",
   "language": "python",
   "name": "python3"
  },
  "language_info": {
   "codemirror_mode": {
    "name": "ipython",
    "version": 3
   },
   "file_extension": ".py",
   "mimetype": "text/x-python",
   "name": "python",
   "nbconvert_exporter": "python",
   "pygments_lexer": "ipython3",
   "version": "3.10.6"
  },
  "orig_nbformat": 4
 },
 "nbformat": 4,
 "nbformat_minor": 2
}
