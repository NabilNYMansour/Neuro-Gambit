{
 "cells": [
  {
   "attachments": {},
   "cell_type": "markdown",
   "metadata": {},
   "source": [
    "## Filter elo"
   ]
  },
  {
   "cell_type": "code",
   "execution_count": 1,
   "metadata": {},
   "outputs": [
    {
     "name": "stdout",
     "output_type": "stream",
     "text": [
      "length: 2185\n",
      "     winner  white_rating  black_rating  \\\n",
      "0     black          1413          2108   \n",
      "1     white          2449           978   \n",
      "2     white          2443           978   \n",
      "3     white          2436           978   \n",
      "4     white          2436           978   \n",
      "...     ...           ...           ...   \n",
      "2180  black          2094          2228   \n",
      "2181  black          2162          2214   \n",
      "2182  black          2236          2148   \n",
      "2183  white          2268          2254   \n",
      "2184  white          2049          1882   \n",
      "\n",
      "                                                  moves  \n",
      "0                        e4 Nc6 d4 e5 d5 Nce7 c3 Ng6 b4  \n",
      "1     c4 e5 Nc3 Bc5 g3 Nc6 Bg2 Nf6 Nf3 b6 Nxe5 Bb7 N...  \n",
      "2     e4 c5 Nf3 d6 d4 cxd4 Nxd4 Nf6 Nc3 g6 Be3 Bg7 f...  \n",
      "3     e4 c5 Nf3 d6 d4 cxd4 Nxd4 Nf6 Nc3 g6 Be3 Bg7 f...  \n",
      "4     e4 d5 exd5 Qxd5 Qf3 Qe5+ Ne2 Nf6 d4 Qd5 Qxd5 N...  \n",
      "...                                                 ...  \n",
      "2180  e4 e5 Nf3 Nc6 Bb5 g6 d4 exd4 Bxc6 dxc6 Qxd4 Qx...  \n",
      "2181  d4 Nf6 c4 e6 Nf3 Bb4+ Bd2 a5 e3 O-O Bd3 b6 O-O...  \n",
      "2182  e4 g6 Nc3 Bg7 f4 c6 g3 d6 Bg2 e5 fxe5 dxe5 d3 ...  \n",
      "2183  e4 e5 Nf3 Nc6 Bc4 Nf6 Ng5 d5 exd5 Na5 Bb5+ c6 ...  \n",
      "2184  e4 c5 Nf3 d6 d4 cxd4 Nxd4 Nf6 Nc3 a6 Bc4 e6 Bb...  \n",
      "\n",
      "[2185 rows x 4 columns]\n"
     ]
    }
   ],
   "source": [
    "# Filtering\n",
    "min_elo = 2000\n",
    "\n",
    "import pandas as pd\n",
    "\n",
    "games = pd.read_csv('./data/games_filtered_1.csv')\n",
    "\n",
    "games = games[\n",
    "    (games['winner'] == 'white') & (games['white_rating'] > min_elo) |\n",
    "    (games['winner'] == 'black') & (games['black_rating'] > min_elo)\n",
    "    ]\n",
    "games = games.reset_index(drop=True)\n",
    "games = games[['winner', 'white_rating', 'black_rating', 'moves']]\n",
    "print('length:', len(games))\n",
    "print(games)\n",
    "\n",
    "games.to_csv(\"./data/games_\"+str(min_elo)+\".csv\", index=False)"
   ]
  },
  {
   "attachments": {},
   "cell_type": "markdown",
   "metadata": {},
   "source": [
    "## Load Filtered data"
   ]
  },
  {
   "cell_type": "code",
   "execution_count": 2,
   "metadata": {},
   "outputs": [
    {
     "name": "stdout",
     "output_type": "stream",
     "text": [
      "     winner  white_rating  black_rating  \\\n",
      "0     black          1413          2108   \n",
      "1     white          2449           978   \n",
      "2     white          2443           978   \n",
      "3     white          2436           978   \n",
      "4     white          2436           978   \n",
      "...     ...           ...           ...   \n",
      "2180  black          2094          2228   \n",
      "2181  black          2162          2214   \n",
      "2182  black          2236          2148   \n",
      "2183  white          2268          2254   \n",
      "2184  white          2049          1882   \n",
      "\n",
      "                                                  moves  \n",
      "0                        e4 Nc6 d4 e5 d5 Nce7 c3 Ng6 b4  \n",
      "1     c4 e5 Nc3 Bc5 g3 Nc6 Bg2 Nf6 Nf3 b6 Nxe5 Bb7 N...  \n",
      "2     e4 c5 Nf3 d6 d4 cxd4 Nxd4 Nf6 Nc3 g6 Be3 Bg7 f...  \n",
      "3     e4 c5 Nf3 d6 d4 cxd4 Nxd4 Nf6 Nc3 g6 Be3 Bg7 f...  \n",
      "4     e4 d5 exd5 Qxd5 Qf3 Qe5+ Ne2 Nf6 d4 Qd5 Qxd5 N...  \n",
      "...                                                 ...  \n",
      "2180  e4 e5 Nf3 Nc6 Bb5 g6 d4 exd4 Bxc6 dxc6 Qxd4 Qx...  \n",
      "2181  d4 Nf6 c4 e6 Nf3 Bb4+ Bd2 a5 e3 O-O Bd3 b6 O-O...  \n",
      "2182  e4 g6 Nc3 Bg7 f4 c6 g3 d6 Bg2 e5 fxe5 dxe5 d3 ...  \n",
      "2183  e4 e5 Nf3 Nc6 Bc4 Nf6 Ng5 d5 exd5 Na5 Bb5+ c6 ...  \n",
      "2184  e4 c5 Nf3 d6 d4 cxd4 Nxd4 Nf6 Nc3 a6 Bc4 e6 Bb...  \n",
      "\n",
      "[2185 rows x 4 columns]\n"
     ]
    }
   ],
   "source": [
    "import pandas as pd\n",
    "\n",
    "games = pd.read_csv('./data/games_'+str(min_elo)+'.csv')\n",
    "print(games)"
   ]
  },
  {
   "attachments": {},
   "cell_type": "markdown",
   "metadata": {},
   "source": [
    "## Set up dataframe"
   ]
  },
  {
   "cell_type": "code",
   "execution_count": 3,
   "metadata": {},
   "outputs": [
    {
     "name": "stdout",
     "output_type": "stream",
     "text": [
      "['p0', 'p1', 'p2', 'p3', 'p4', 'p5', 'p6', 'p7', 'p8', 'p9', 'p10', 'p11', 'p12', 'p13', 'p14', 'p15', 'p16', 'p17', 'p18', 'p19', 'p20', 'p21', 'p22', 'p23', 'p24', 'p25', 'p26', 'p27', 'p28', 'p29', 'p30', 'p31', 'p32', 'p33', 'p34', 'p35', 'p36', 'p37', 'p38', 'p39', 'p40', 'p41', 'p42', 'p43', 'p44', 'p45', 'p46', 'p47', 'p48', 'p49', 'p50', 'p51', 'p52', 'p53', 'p54', 'p55', 'p56', 'p57', 'p58', 'p59', 'p60', 'p61', 'p62', 'p63', 'player', 'alg', 'uci']\n"
     ]
    }
   ],
   "source": [
    "# columns titles\n",
    "positions = ['p'+str(i) for i in range(64)]\n",
    "columns = positions\n",
    "columns += ['player']\n",
    "columns += ['alg']\n",
    "columns += ['uci']\n",
    "print(columns)"
   ]
  },
  {
   "attachments": {},
   "cell_type": "markdown",
   "metadata": {},
   "source": [
    "## Final filtering"
   ]
  },
  {
   "cell_type": "code",
   "execution_count": 4,
   "metadata": {},
   "outputs": [
    {
     "name": "stdout",
     "output_type": "stream",
     "text": [
      "      p0 p1 p2 p3 p4 p5 p6 p7 p8 p9  ... p57 p58 p59 p60 p61 p62 p63 player  \\\n",
      "0      r  n  b  q  k  b  n  r  p  p  ...   N   B   Q   K   B   N   R  black   \n",
      "1      r  .  b  q  k  b  n  r  p  p  ...   N   B   Q   K   B   N   R  black   \n",
      "2      r  .  b  q  k  b  n  r  p  p  ...   N   B   Q   K   B   N   R  black   \n",
      "3      r  .  b  q  k  b  n  r  p  p  ...   N   B   Q   K   B   N   R  black   \n",
      "4      r  n  b  q  k  b  n  r  p  p  ...   N   B   Q   K   B   N   R  white   \n",
      "...   .. .. .. .. .. .. .. .. .. ..  ...  ..  ..  ..  ..  ..  ..  ..    ...   \n",
      "68567  r  .  .  .  .  .  .  r  .  b  ...   .   B   Q   R   .   K   .  white   \n",
      "68568  r  .  .  .  .  .  .  r  .  b  ...   .   B   Q   R   .   K   .  white   \n",
      "68569  r  .  .  .  .  .  r  .  .  b  ...   .   B   Q   R   .   K   .  white   \n",
      "68570  r  .  .  .  .  .  r  .  .  b  ...   .   B   .   R   .   K   .  white   \n",
      "68571  r  .  .  .  .  .  r  .  .  b  ...   .   B   .   R   .   K   .  white   \n",
      "\n",
      "         alg   uci  \n",
      "0        Nc6  b8c6  \n",
      "1         e5  e7e5  \n",
      "2       Nce7  c6e7  \n",
      "3        Ng6  e7g6  \n",
      "4         c4  c2c4  \n",
      "...      ...   ...  \n",
      "68567  Nfxe7  f5e7  \n",
      "68568   Nxd5  e7d5  \n",
      "68569   Qh5+  d1h5  \n",
      "68570   Qf3+  h5f3  \n",
      "68571   Qf6#  f3f6  \n",
      "\n",
      "[68572 rows x 67 columns]\n"
     ]
    }
   ],
   "source": [
    "from chess_transformation import *\n",
    "\n",
    "games_transformed = pd.DataFrame(columns=columns)\n",
    "\n",
    "index = 0\n",
    "for i in range(len(games)):\n",
    "# for i in range(1):\n",
    "    print(str(i)+'/'+str(len(games)), end='\\r')\n",
    "    boards = []\n",
    "    move_list = []\n",
    "    game = games.iloc[i]\n",
    "\n",
    "    moves = game['moves']\n",
    "    winner = game['winner']\n",
    "    # print(moves)\n",
    "    # print(winner)\n",
    "\n",
    "    data = algebraic_game_to_training_dataset(moves, winner)\n",
    "\n",
    "    for i in range(len(data['boards'])):\n",
    "        board = data['boards'][i]\n",
    "        alg = data['moves_alg'][i]\n",
    "        uci = data['moves_uci'][i]\n",
    "        games_transformed.loc[index] = board+[winner]+[alg]+[uci]\n",
    "        index+=1\n",
    "        if index%100 == 0: # save every 100 games\n",
    "            games_transformed.to_csv('./data/games_cleaned_'+str(min_elo)+'.csv')\n",
    "\n",
    "games_transformed.to_csv('./data/games_cleaned_'+str(min_elo)+'.csv', index=False)\n",
    "print(games_transformed)"
   ]
  },
  {
   "attachments": {},
   "cell_type": "markdown",
   "metadata": {},
   "source": [
    "## Scrambling"
   ]
  },
  {
   "cell_type": "code",
   "execution_count": 5,
   "metadata": {},
   "outputs": [
    {
     "name": "stdout",
     "output_type": "stream",
     "text": [
      "      p0 p1 p2 p3 p4 p5 p6 p7 p8 p9  ... p57 p58 p59 p60 p61 p62 p63 player  \\\n",
      "0      .  .  .  .  .  .  k  .  .  .  ...   .   .   .   .   .   K   .  black   \n",
      "1      .  .  .  .  .  .  .  .  .  P  ...   .   .   .   .   .   .   .  white   \n",
      "2      r  .  .  .  r  .  k  .  p  .  ...   .   R   .   R   .   .   .  black   \n",
      "3      .  .  r  q  .  .  .  r  .  b  ...   .   R   .   Q   R   K   .  white   \n",
      "4      r  .  b  q  k  b  n  r  p  p  ...   N   B   Q   K   .   .   R  white   \n",
      "...   .. .. .. .. .. .. .. .. .. ..  ...  ..  ..  ..  ..  ..  ..  ..    ...   \n",
      "68567  r  n  b  q  k  b  .  r  p  p  ...   N   B   Q   K   B   N   R  white   \n",
      "68568  r  .  b  q  .  .  .  .  p  p  ...   N   B   Q   .   R   K   .  black   \n",
      "68569  r  .  b  q  k  b  .  r  p  p  ...   .   B   Q   K   B   .   R  white   \n",
      "68570  r  .  b  q  k  b  .  r  p  p  ...   N   .   Q   K   B   .   R  white   \n",
      "68571  .  r  .  r  q  .  k  .  .  .  ...   .   .   R   .   .   .   K  black   \n",
      "\n",
      "        alg   uci  \n",
      "0        b3  b4b3  \n",
      "1      Nxc6  d4c6  \n",
      "2       Nf5  h6f5  \n",
      "3       Bd1  e2d1  \n",
      "4      Nxe5  f3e5  \n",
      "...     ...   ...  \n",
      "68567   Nc3  b1c3  \n",
      "68568    d6  d7d6  \n",
      "68569   Bd3  f1d3  \n",
      "68570   Nc3  b1c3  \n",
      "68571  Rxb2  b8b2  \n",
      "\n",
      "[68572 rows x 67 columns]\n"
     ]
    }
   ],
   "source": [
    "games_cleaned = pd.read_csv('./data/games_cleaned_'+str(min_elo)+'.csv')\n",
    "games_cleaned = games_cleaned.sample(frac = 1).reset_index(drop=True)\n",
    "print(games_cleaned)\n",
    "games_cleaned.to_csv('./data/games_cleaned_'+str(min_elo)+'_scrambled.csv', index=False)\n"
   ]
  }
 ],
 "metadata": {
  "kernelspec": {
   "display_name": "Python 3",
   "language": "python",
   "name": "python3"
  },
  "language_info": {
   "codemirror_mode": {
    "name": "ipython",
    "version": 3
   },
   "file_extension": ".py",
   "mimetype": "text/x-python",
   "name": "python",
   "nbconvert_exporter": "python",
   "pygments_lexer": "ipython3",
   "version": "3.10.6"
  },
  "orig_nbformat": 4
 },
 "nbformat": 4,
 "nbformat_minor": 2
}
