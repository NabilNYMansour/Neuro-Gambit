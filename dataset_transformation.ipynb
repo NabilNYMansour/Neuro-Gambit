{
 "cells": [
  {
   "attachments": {},
   "cell_type": "markdown",
   "metadata": {},
   "source": [
    "## ELO init"
   ]
  },
  {
   "cell_type": "code",
   "execution_count": null,
   "metadata": {},
   "outputs": [],
   "source": [
    "min_elo = 2550"
   ]
  },
  {
   "attachments": {},
   "cell_type": "markdown",
   "metadata": {},
   "source": [
    "## Filter elo"
   ]
  },
  {
   "cell_type": "code",
   "execution_count": null,
   "metadata": {},
   "outputs": [],
   "source": [
    "# Filtering\n",
    "import pandas as pd\n",
    "\n",
    "games = pd.read_csv('./data/games_filtered_1.csv')\n",
    "\n",
    "games = games[\n",
    "    (games['winner'] == 'white') & (games['white_rating'] > min_elo) |\n",
    "    (games['winner'] == 'black') & (games['black_rating'] > min_elo)\n",
    "    ]\n",
    "games = games.reset_index(drop=True)\n",
    "games = games[['winner', 'white_rating', 'black_rating', 'moves']]\n",
    "print('length:', len(games))\n",
    "print(games)\n",
    "\n",
    "games.to_csv(\"./data/games_\"+str(min_elo)+\".csv\", index=False)"
   ]
  },
  {
   "attachments": {},
   "cell_type": "markdown",
   "metadata": {},
   "source": [
    "## Load Filtered data"
   ]
  },
  {
   "cell_type": "code",
   "execution_count": null,
   "metadata": {},
   "outputs": [],
   "source": [
    "import pandas as pd\n",
    "\n",
    "games = pd.read_csv('./data/games_'+str(min_elo)+'.csv')\n",
    "print(games)"
   ]
  },
  {
   "attachments": {},
   "cell_type": "markdown",
   "metadata": {},
   "source": [
    "## Set up dataframe"
   ]
  },
  {
   "cell_type": "code",
   "execution_count": null,
   "metadata": {},
   "outputs": [],
   "source": [
    "# columns titles\n",
    "positions = ['p'+str(i) for i in range(64)]\n",
    "columns = positions\n",
    "columns += ['player']\n",
    "columns += ['alg']\n",
    "columns += ['uci']\n",
    "print(columns)"
   ]
  },
  {
   "attachments": {},
   "cell_type": "markdown",
   "metadata": {},
   "source": [
    "## Final filtering"
   ]
  },
  {
   "cell_type": "code",
   "execution_count": null,
   "metadata": {},
   "outputs": [],
   "source": [
    "from chess_transformation import *\n",
    "\n",
    "games_transformed = pd.DataFrame(columns=columns)\n",
    "\n",
    "index = 0\n",
    "for i in range(len(games)):\n",
    "# for i in range(1):\n",
    "    print(str(i)+'/'+str(len(games)), end='\\r')\n",
    "    boards = []\n",
    "    move_list = []\n",
    "    game = games.iloc[i]\n",
    "\n",
    "    moves = game['moves']\n",
    "    winner = game['winner']\n",
    "    # print(moves)\n",
    "    # print(winner)\n",
    "\n",
    "    data = algebraic_game_to_training_dataset(moves, winner)\n",
    "\n",
    "    for i in range(len(data['boards'])):\n",
    "        board = data['boards'][i]\n",
    "        alg = data['moves_alg'][i]\n",
    "        uci = data['moves_uci'][i]\n",
    "        games_transformed.loc[index] = board+[winner]+[alg]+[uci]\n",
    "        index+=1\n",
    "        if index%100 == 0: # save every 100 games\n",
    "            games_transformed.to_csv('./data/games_cleaned_'+str(min_elo)+'.csv')\n",
    "\n",
    "games_transformed.to_csv('./data/games_cleaned_'+str(min_elo)+'.csv', index=False)\n",
    "print(games_transformed)"
   ]
  },
  {
   "attachments": {},
   "cell_type": "markdown",
   "metadata": {},
   "source": [
    "## Scrambling"
   ]
  },
  {
   "cell_type": "code",
   "execution_count": null,
   "metadata": {},
   "outputs": [],
   "source": [
    "games_cleaned = pd.read_csv('./data/games_cleaned_'+str(min_elo)+'.csv')\n",
    "games_cleaned = games_cleaned.sample(frac = 1).reset_index(drop=True)\n",
    "print(games_cleaned)\n",
    "games_cleaned.to_csv('./data/games_cleaned_'+str(min_elo)+'_scrambled.csv', index=False)\n"
   ]
  },
  {
   "attachments": {},
   "cell_type": "markdown",
   "metadata": {},
   "source": [
    "## Turning the data to tensors"
   ]
  },
  {
   "cell_type": "code",
   "execution_count": null,
   "metadata": {},
   "outputs": [],
   "source": [
    "import torch\n",
    "from model import one_hot_encode_labels, encode_player_col\n",
    "from chess_transformation import encode_uci\n",
    "import pandas as pd\n",
    "\n",
    "data_pandas = pd.read_csv('./data/games_cleaned_'+str(min_elo)+'_scrambled.csv')\n",
    "\n",
    "position_columns = ['p'+str(i) for i in range(64)]\n",
    "\n",
    "X_pos_pandas = data_pandas[position_columns]\n",
    "X_col_pandas = data_pandas['player']\n",
    "\n",
    "X_pos_values = X_pos_pandas.values\n",
    "X_col_values = X_col_pandas.values\n",
    "X_list = []\n",
    "i = 0\n",
    "for i in range(len(X_pos_values)):\n",
    "    x_pos = X_pos_values[i]\n",
    "    x_pos_encoded = one_hot_encode_labels(x_pos)\n",
    "    x_col = X_col_values[i]\n",
    "    x_col_encoded = encode_player_col(x_col)\n",
    "\n",
    "    x = torch.cat((x_pos_encoded, x_col_encoded.unsqueeze(1)), dim=1)\n",
    "    X_list.append(x)\n",
    "\n",
    "X = torch.cat(X_list, dim=0)\n",
    "print(X.shape)\n",
    "torch.save(X, './data/X_tensor_'+str(min_elo)+'.pt')\n",
    "\n",
    "\n",
    "Y_pandas = data_pandas['uci']\n",
    "Y_pandas_values = Y_pandas.values\n",
    "Y_list = []\n",
    "for i in range(len(Y_pandas_values)):\n",
    "    y_val = Y_pandas_values[i]\n",
    "    y = encode_uci(y_val)\n",
    "    Y_list.append(y)\n",
    "\n",
    "Y = torch.cat(Y_list, dim=0)\n",
    "print(Y.shape)\n",
    "torch.save(Y, './data/Y_tensor_'+str(min_elo)+'.pt')"
   ]
  }
 ],
 "metadata": {
  "kernelspec": {
   "display_name": "Python 3",
   "language": "python",
   "name": "python3"
  },
  "language_info": {
   "codemirror_mode": {
    "name": "ipython",
    "version": 3
   },
   "file_extension": ".py",
   "mimetype": "text/x-python",
   "name": "python",
   "nbconvert_exporter": "python",
   "pygments_lexer": "ipython3",
   "version": "3.10.6"
  },
  "orig_nbformat": 4
 },
 "nbformat": 4,
 "nbformat_minor": 2
}
