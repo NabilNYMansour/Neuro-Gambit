{
 "cells": [
  {
   "attachments": {},
   "cell_type": "markdown",
   "metadata": {},
   "source": [
    "## Filter elo"
   ]
  },
  {
   "cell_type": "code",
   "execution_count": 11,
   "metadata": {},
   "outputs": [
    {
     "name": "stdout",
     "output_type": "stream",
     "text": [
      "      winner  white_rating  black_rating  \\\n",
      "0      white          1500          1191   \n",
      "1      black          1322          1261   \n",
      "2      white          1496          1500   \n",
      "3      white          1439          1454   \n",
      "4      white          1523          1469   \n",
      "...      ...           ...           ...   \n",
      "20053  white          1691          1220   \n",
      "20054  black          1233          1196   \n",
      "20055  white          1219          1286   \n",
      "20056  white          1360          1227   \n",
      "20057  black          1235          1339   \n",
      "\n",
      "                                                   moves  \n",
      "0      d4 d5 c4 c6 cxd5 e6 dxe6 fxe6 Nf3 Bb4+ Nc3 Ba5...  \n",
      "1      d4 Nc6 e4 e5 f4 f6 dxe5 fxe5 fxe5 Nxe5 Qd4 Nc6...  \n",
      "2      e4 e5 d3 d6 Be3 c6 Be2 b5 Nd2 a5 a4 c5 axb5 Nc...  \n",
      "3      d4 d5 Nf3 Bf5 Nc3 Nf6 Bf4 Ng4 e3 Nc6 Be2 Qd7 O...  \n",
      "4      e4 e5 Nf3 d6 d4 Nc6 d5 Nb4 a3 Na6 Nc3 Be7 b4 N...  \n",
      "...                                                  ...  \n",
      "20053  d4 f5 e3 e6 Nf3 Nf6 Nc3 b6 Be2 Bb7 O-O Be7 Ne5...  \n",
      "20054  d4 d6 Bf4 e5 Bg3 Nf6 e3 exd4 exd4 d5 c3 Bd6 Bd...  \n",
      "20055  d4 d5 Bf4 Nc6 e3 Nf6 c3 e6 Nf3 Be7 Bd3 O-O Nbd...  \n",
      "20056  e4 d6 d4 Nf6 e5 dxe5 dxe5 Qxd1+ Kxd1 Nd5 c4 Nb...  \n",
      "20057  d4 d5 Bf4 Na6 e3 e6 c3 Nf6 Nf3 Bd7 Nbd2 b5 Bd3...  \n",
      "\n",
      "[20058 rows x 4 columns]\n",
      "     winner  white_rating  black_rating  \\\n",
      "0     black          1413          2108   \n",
      "1     white          2449           978   \n",
      "2     white          2443           978   \n",
      "3     white          2436           978   \n",
      "4     white          2436           978   \n",
      "...     ...           ...           ...   \n",
      "2180  black          2094          2228   \n",
      "2181  black          2162          2214   \n",
      "2182  black          2236          2148   \n",
      "2183  white          2268          2254   \n",
      "2184  white          2049          1882   \n",
      "\n",
      "                                                  moves  \n",
      "0                        e4 Nc6 d4 e5 d5 Nce7 c3 Ng6 b4  \n",
      "1     c4 e5 Nc3 Bc5 g3 Nc6 Bg2 Nf6 Nf3 b6 Nxe5 Bb7 N...  \n",
      "2     e4 c5 Nf3 d6 d4 cxd4 Nxd4 Nf6 Nc3 g6 Be3 Bg7 f...  \n",
      "3     e4 c5 Nf3 d6 d4 cxd4 Nxd4 Nf6 Nc3 g6 Be3 Bg7 f...  \n",
      "4     e4 d5 exd5 Qxd5 Qf3 Qe5+ Ne2 Nf6 d4 Qd5 Qxd5 N...  \n",
      "...                                                 ...  \n",
      "2180  e4 e5 Nf3 Nc6 Bb5 g6 d4 exd4 Bxc6 dxc6 Qxd4 Qx...  \n",
      "2181  d4 Nf6 c4 e6 Nf3 Bb4+ Bd2 a5 e3 O-O Bd3 b6 O-O...  \n",
      "2182  e4 g6 Nc3 Bg7 f4 c6 g3 d6 Bg2 e5 fxe5 dxe5 d3 ...  \n",
      "2183  e4 e5 Nf3 Nc6 Bc4 Nf6 Ng5 d5 exd5 Na5 Bb5+ c6 ...  \n",
      "2184  e4 c5 Nf3 d6 d4 cxd4 Nxd4 Nf6 Nc3 a6 Bc4 e6 Bb...  \n",
      "\n",
      "[2185 rows x 4 columns]\n"
     ]
    }
   ],
   "source": [
    "# Filtering\n",
    "min_elo = 2000\n",
    "\n",
    "import pandas as pd\n",
    "\n",
    "games = pd.read_csv('./data/games_filtered_1.csv')\n",
    "print(games)\n",
    "\n",
    "games = games[\n",
    "    (games['winner'] == 'white') & (games['white_rating'] > min_elo) |\n",
    "    (games['winner'] == 'black') & (games['black_rating'] > min_elo)\n",
    "    ]\n",
    "games = games.reset_index(drop=True)\n",
    "games = games[['winner', 'white_rating', 'black_rating', 'moves']]\n",
    "print(games)\n",
    "\n",
    "games.to_csv(\"./data/games_\"+str(min_elo)+\".csv\")"
   ]
  },
  {
   "attachments": {},
   "cell_type": "markdown",
   "metadata": {},
   "source": [
    "## Load Filtered data"
   ]
  },
  {
   "cell_type": "code",
   "execution_count": 6,
   "metadata": {},
   "outputs": [
    {
     "name": "stdout",
     "output_type": "stream",
     "text": [
      "      Unnamed: 0 winner  white_rating  black_rating  \\\n",
      "0              0  black          1413          2108   \n",
      "1              1  white          2449           978   \n",
      "2              2  white          2443           978   \n",
      "3              3  white          2436           978   \n",
      "4              4  white          2436           978   \n",
      "...          ...    ...           ...           ...   \n",
      "2180        2180  black          2094          2228   \n",
      "2181        2181  black          2162          2214   \n",
      "2182        2182  black          2236          2148   \n",
      "2183        2183  white          2268          2254   \n",
      "2184        2184  white          2049          1882   \n",
      "\n",
      "                                                  moves  \n",
      "0                        e4 Nc6 d4 e5 d5 Nce7 c3 Ng6 b4  \n",
      "1     c4 e5 Nc3 Bc5 g3 Nc6 Bg2 Nf6 Nf3 b6 Nxe5 Bb7 N...  \n",
      "2     e4 c5 Nf3 d6 d4 cxd4 Nxd4 Nf6 Nc3 g6 Be3 Bg7 f...  \n",
      "3     e4 c5 Nf3 d6 d4 cxd4 Nxd4 Nf6 Nc3 g6 Be3 Bg7 f...  \n",
      "4     e4 d5 exd5 Qxd5 Qf3 Qe5+ Ne2 Nf6 d4 Qd5 Qxd5 N...  \n",
      "...                                                 ...  \n",
      "2180  e4 e5 Nf3 Nc6 Bb5 g6 d4 exd4 Bxc6 dxc6 Qxd4 Qx...  \n",
      "2181  d4 Nf6 c4 e6 Nf3 Bb4+ Bd2 a5 e3 O-O Bd3 b6 O-O...  \n",
      "2182  e4 g6 Nc3 Bg7 f4 c6 g3 d6 Bg2 e5 fxe5 dxe5 d3 ...  \n",
      "2183  e4 e5 Nf3 Nc6 Bc4 Nf6 Ng5 d5 exd5 Na5 Bb5+ c6 ...  \n",
      "2184  e4 c5 Nf3 d6 d4 cxd4 Nxd4 Nf6 Nc3 a6 Bc4 e6 Bb...  \n",
      "\n",
      "[2185 rows x 5 columns]\n"
     ]
    }
   ],
   "source": [
    "import pandas as pd\n",
    "\n",
    "games = pd.read_csv('./data/games_'+str(min_elo)+'.csv')\n",
    "print(games)"
   ]
  },
  {
   "attachments": {},
   "cell_type": "markdown",
   "metadata": {},
   "source": [
    "## Set up dataframe"
   ]
  },
  {
   "cell_type": "code",
   "execution_count": 7,
   "metadata": {},
   "outputs": [
    {
     "name": "stdout",
     "output_type": "stream",
     "text": [
      "['p0', 'p1', 'p2', 'p3', 'p4', 'p5', 'p6', 'p7', 'p8', 'p9', 'p10', 'p11', 'p12', 'p13', 'p14', 'p15', 'p16', 'p17', 'p18', 'p19', 'p20', 'p21', 'p22', 'p23', 'p24', 'p25', 'p26', 'p27', 'p28', 'p29', 'p30', 'p31', 'p32', 'p33', 'p34', 'p35', 'p36', 'p37', 'p38', 'p39', 'p40', 'p41', 'p42', 'p43', 'p44', 'p45', 'p46', 'p47', 'p48', 'p49', 'p50', 'p51', 'p52', 'p53', 'p54', 'p55', 'p56', 'p57', 'p58', 'p59', 'p60', 'p61', 'p62', 'p63', 'player', 'move']\n"
     ]
    }
   ],
   "source": [
    "# columns titles\n",
    "positions = ['p'+str(i) for i in range(64)]\n",
    "columns = positions\n",
    "columns += ['player']\n",
    "columns += ['move']\n",
    "print(columns)"
   ]
  },
  {
   "attachments": {},
   "cell_type": "markdown",
   "metadata": {},
   "source": [
    "## Final filtering"
   ]
  },
  {
   "cell_type": "code",
   "execution_count": 8,
   "metadata": {},
   "outputs": [
    {
     "name": "stdout",
     "output_type": "stream",
     "text": [
      "      p0 p1 p2 p3 p4 p5 p6 p7 p8 p9  ... p56 p57 p58 p59 p60 p61 p62 p63  \\\n",
      "0      R  N  B  Q  K  B  N  R  P  P  ...   r   n   b   q   k   b   n   r   \n",
      "1      R  N  B  Q  K  B  N  R  P  P  ...   r   .   b   q   k   b   n   r   \n",
      "2      R  N  B  Q  K  B  N  R  P  P  ...   r   .   b   q   k   b   n   r   \n",
      "3      R  N  B  Q  K  B  N  R  P  P  ...   r   .   b   q   k   b   n   r   \n",
      "4      R  N  B  Q  K  B  N  R  P  P  ...   r   n   b   q   k   b   n   r   \n",
      "...   .. .. .. .. .. .. .. .. .. ..  ...  ..  ..  ..  ..  ..  ..  ..  ..   \n",
      "66594  R  .  B  Q  R  .  K  .  P  P  ...   r   .   .   .   .   .   .   r   \n",
      "66595  R  .  B  Q  R  .  K  .  P  P  ...   r   .   .   .   .   .   .   r   \n",
      "66596  R  .  B  Q  R  .  K  .  P  P  ...   r   .   .   .   .   .   .   r   \n",
      "66597  R  .  B  Q  R  .  K  .  P  P  ...   r   .   .   .   .   .   r   .   \n",
      "66598  R  .  B  .  R  .  K  .  P  P  ...   r   .   .   .   .   .   r   .   \n",
      "\n",
      "      player   move  \n",
      "0      black    Nc6  \n",
      "1      black     e5  \n",
      "2      black   Nce7  \n",
      "3      black    Ng6  \n",
      "4      white     c4  \n",
      "...      ...    ...  \n",
      "66594  white    Nd5  \n",
      "66595  white  Nfxe7  \n",
      "66596  white   Nxd5  \n",
      "66597  white   Qh5+  \n",
      "66598  white   Qf3+  \n",
      "\n",
      "[66599 rows x 66 columns]\n"
     ]
    }
   ],
   "source": [
    "from chess_transformation import *\n",
    "\n",
    "games_transformed = pd.DataFrame(columns=columns)\n",
    "\n",
    "index = 0\n",
    "for i in range(len(games)):\n",
    "# for i in range(1):\n",
    "    print(str(i)+'/'+str(len(games)), end='\\r')\n",
    "    boards = []\n",
    "    move_list = []\n",
    "    game = games.iloc[i]\n",
    "\n",
    "    moves = game['moves'].split(' ')\n",
    "    winner = game['winner']\n",
    "    # print(game['moves'])\n",
    "    # print(moves)\n",
    "    # print(winner)\n",
    "\n",
    "    for i in range(len(moves)-1):\n",
    "        if winner == 'white' and (i%2==0 or i == 0):\n",
    "            boards.append(algebraic_to_matrix_python_chess(moves[:i]))\n",
    "            move_list.append(moves[i])\n",
    "        elif winner == 'black' and i%2==1 and i != 0:\n",
    "            boards.append(algebraic_to_matrix_python_chess(moves[:i]))\n",
    "            move_list.append(moves[i])\n",
    "\n",
    "    for i in range(len(boards)):\n",
    "        # print(board_to_linear(boards[i])+[winner]+[move_list[i]])\n",
    "        # print('----------------------------------------')\n",
    "        # print_board(boards[i])\n",
    "        # print('next:', move_list[i])\n",
    "        games_transformed.loc[index] = board_to_linear(boards[i])+[winner]+[move_list[i]]\n",
    "        index+=1\n",
    "\n",
    "        if index%100 == 0: # save every 100 games\n",
    "            games_transformed.to_csv('./data/games_cleaned_'+str(min_elo)+'.csv')\n",
    "\n",
    "# games_transformed.to_csv(\"test.csv\")\n",
    "games_transformed.to_csv('./data/games_cleaned_'+str(min_elo)+'.csv')\n",
    "print(games_transformed)"
   ]
  },
  {
   "attachments": {},
   "cell_type": "markdown",
   "metadata": {},
   "source": [
    "## Scrambling"
   ]
  },
  {
   "cell_type": "code",
   "execution_count": 13,
   "metadata": {},
   "outputs": [
    {
     "name": "stdout",
     "output_type": "stream",
     "text": [
      "       Unnamed: 0 p0 p1 p2 p3 p4 p5 p6 p7 p8  ... p56 p57 p58 p59 p60 p61 p62  \\\n",
      "0           34772  .  .  K  .  .  r  R  R  P  ...   .   .   .   .   .   r   .   \n",
      "1            2658  .  .  .  .  .  R  K  .  .  ...   r   .   .   .   .   .   k   \n",
      "2           48434  R  .  B  .  .  R  .  K  P  ...   .   .   .   .   .   r   .   \n",
      "3           30771  .  .  B  .  .  R  K  .  q  ...   .   .   r   .   .   .   k   \n",
      "4           12955  R  .  .  Q  K  .  .  R  P  ...   .   .   k   r   .   b   .   \n",
      "...           ... .. .. .. .. .. .. .. .. ..  ...  ..  ..  ..  ..  ..  ..  ..   \n",
      "66594       16113  R  .  .  Q  .  R  K  .  .  ...   .   r   .   .   .   .   k   \n",
      "66595       50259  R  .  B  Q  K  B  .  R  P  ...   r   .   b   q   k   b   .   \n",
      "66596       36974  R  N  B  Q  K  B  N  R  P  ...   r   n   b   q   k   b   n   \n",
      "66597       22725  .  .  .  R  .  .  K  .  .  ...   .   .   r   .   .   .   k   \n",
      "66598       13833  R  .  .  .  .  R  K  .  P  ...   r   .   .   q   .   r   k   \n",
      "\n",
      "      p63 player  move  \n",
      "0       k  white  Rxf1  \n",
      "1       .  black    a4  \n",
      "2       k  white  bxc3  \n",
      "3       .  black  gxh5  \n",
      "4       r  white   O-O  \n",
      "...    ..    ...   ...  \n",
      "66594   .  black   Bf5  \n",
      "66595   r  white   Bc4  \n",
      "66596   r  white    b4  \n",
      "66597   .  black   Bf6  \n",
      "66598   .  black  Nxe5  \n",
      "\n",
      "[66599 rows x 67 columns]\n"
     ]
    }
   ],
   "source": [
    "games_cleaned = pd.read_csv('./data/games_cleaned_'+str(min_elo)+'.csv')\n",
    "games_cleaned = games_cleaned.sample(frac = 1).reset_index(drop=True)\n",
    "print(games_cleaned)\n",
    "games_cleaned.to_csv('./data/games_cleaned_'+str(min_elo)+'_scambled.csv')\n"
   ]
  }
 ],
 "metadata": {
  "kernelspec": {
   "display_name": "Python 3",
   "language": "python",
   "name": "python3"
  },
  "language_info": {
   "codemirror_mode": {
    "name": "ipython",
    "version": 3
   },
   "file_extension": ".py",
   "mimetype": "text/x-python",
   "name": "python",
   "nbconvert_exporter": "python",
   "pygments_lexer": "ipython3",
   "version": "3.10.6"
  },
  "orig_nbformat": 4
 },
 "nbformat": 4,
 "nbformat_minor": 2
}
