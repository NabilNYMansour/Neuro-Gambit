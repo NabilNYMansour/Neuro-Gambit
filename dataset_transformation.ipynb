{
 "cells": [
  {
   "attachments": {},
   "cell_type": "markdown",
   "metadata": {},
   "source": [
    "## ELO or Year init"
   ]
  },
  {
   "attachments": {},
   "cell_type": "markdown",
   "metadata": {},
   "source": [
    "Note: you should change the naming of the files as they don't always corrospond to the exact dataset u'd have in mind."
   ]
  },
  {
   "cell_type": "code",
   "execution_count": 2,
   "metadata": {},
   "outputs": [],
   "source": [
    "elo_or_year = 2010"
   ]
  },
  {
   "attachments": {},
   "cell_type": "markdown",
   "metadata": {},
   "source": [
    "## Filter elo"
   ]
  },
  {
   "cell_type": "code",
   "execution_count": null,
   "metadata": {},
   "outputs": [],
   "source": [
    "# Filtering\n",
    "import pandas as pd\n",
    "\n",
    "games = pd.read_csv('./data/chess_data_2010_titled.csv')\n",
    "\n",
    "games = games[\n",
    "    (games['winner'] == 'white') & (games['white_rating'] > elo_or_year) |\n",
    "    (games['winner'] == 'black') & (games['black_rating'] > elo_or_year)\n",
    "    ]\n",
    "games = games.reset_index(drop=True)\n",
    "games = games[['winner', 'white_rating', 'black_rating', 'moves']]\n",
    "print('length:', len(games))\n",
    "print(games)\n",
    "\n",
    "games.to_csv(\"./data/games_\"+str(elo_or_year)+\".csv\", index=False)"
   ]
  },
  {
   "attachments": {},
   "cell_type": "markdown",
   "metadata": {},
   "source": [
    "## Load Filtered data"
   ]
  },
  {
   "cell_type": "code",
   "execution_count": 7,
   "metadata": {},
   "outputs": [
    {
     "name": "stdout",
     "output_type": "stream",
     "text": [
      "      winner                                              moves\n",
      "0      white  d4 e6 Nf3 b6 e4 Bb7 Nc3 Bb4 Bd3 Nf6 Qe2 c5 d5 ...\n",
      "1      black  e3 c6 b3 d5 Bb2 Nf6 c4 e6 cxd5 exd5 Nf3 Bd6 Be...\n",
      "2      white  e4 c6 Nc3 d5 exd5 cxd5 d4 Nf6 Nf3 e6 Be2 Bd6 O...\n",
      "3      black  e4 c5 Nf3 Nc6 c3 g6 d4 Bg7 dxc5 Nf6 Bd3 O-O h3...\n",
      "4      white  e4 d6 Nc3 Nf6 d4 g6 Bd3 Bg7 h3 b6 Nf3 Bb7 O-O ...\n",
      "...      ...                                                ...\n",
      "41366  white  d4 f5 h3 d5 Nf3 c5 c3 Nc6 Bf4 e6 e3 Bd6 Bxd6 Q...\n",
      "41367  black  e4 Nc6 d4 d5 exd5 Qxd5 Nf3 Bg4 Be2 O-O-O c3 Nf...\n",
      "41368  black  e4 c5 Nc3 e6 Bc4 a6 a4 b6 Nf3 Bb7 d4 cxd4 Nxd4...\n",
      "41369  black  e4 d5 d4 dxe4 Nc3 Nf6 f3 Bf5 fxe4 Nxe4 Qf3 Nxc...\n",
      "41370  white  e4 c6 d4 d5 Nc3 dxe4 Nxe4 Nd7 Bc4 Ndf6 Nxf6+ N...\n",
      "\n",
      "[41371 rows x 2 columns]\n"
     ]
    }
   ],
   "source": [
    "import pandas as pd\n",
    "\n",
    "games = pd.read_csv('./data/chess_data_2010_titled.csv')\n",
    "print(games)"
   ]
  },
  {
   "attachments": {},
   "cell_type": "markdown",
   "metadata": {},
   "source": [
    "## Set up dataframe"
   ]
  },
  {
   "cell_type": "code",
   "execution_count": 8,
   "metadata": {},
   "outputs": [
    {
     "name": "stdout",
     "output_type": "stream",
     "text": [
      "['p0', 'p1', 'p2', 'p3', 'p4', 'p5', 'p6', 'p7', 'p8', 'p9', 'p10', 'p11', 'p12', 'p13', 'p14', 'p15', 'p16', 'p17', 'p18', 'p19', 'p20', 'p21', 'p22', 'p23', 'p24', 'p25', 'p26', 'p27', 'p28', 'p29', 'p30', 'p31', 'p32', 'p33', 'p34', 'p35', 'p36', 'p37', 'p38', 'p39', 'p40', 'p41', 'p42', 'p43', 'p44', 'p45', 'p46', 'p47', 'p48', 'p49', 'p50', 'p51', 'p52', 'p53', 'p54', 'p55', 'p56', 'p57', 'p58', 'p59', 'p60', 'p61', 'p62', 'p63', 'player', 'uci']\n"
     ]
    }
   ],
   "source": [
    "# columns titles\n",
    "positions = ['p'+str(i) for i in range(64)]\n",
    "columns = positions\n",
    "columns += ['player']\n",
    "# columns += ['alg'] # no need for alg\n",
    "columns += ['uci']\n",
    "print(columns)\n",
    "\n",
    "# dataframe init\n",
    "games_transformed = pd.DataFrame(columns=columns)\n",
    "\n",
    "# save headers\n",
    "# games_transformed.to_csv('./data/games_cleaned_'+str(elo_or_year)+'.csv', index=False, mode='a')"
   ]
  },
  {
   "attachments": {},
   "cell_type": "markdown",
   "metadata": {},
   "source": [
    "## Final filtering"
   ]
  },
  {
   "cell_type": "code",
   "execution_count": 9,
   "metadata": {},
   "outputs": [
    {
     "name": "stdout",
     "output_type": "stream",
     "text": [
      "8130/41371\r"
     ]
    },
    {
     "ename": "KeyboardInterrupt",
     "evalue": "",
     "output_type": "error",
     "traceback": [
      "\u001b[0;31m---------------------------------------------------------------------------\u001b[0m",
      "\u001b[0;31mKeyboardInterrupt\u001b[0m                         Traceback (most recent call last)",
      "Cell \u001b[0;32mIn[9], line 16\u001b[0m\n\u001b[1;32m     12\u001b[0m winner \u001b[39m=\u001b[39m game[\u001b[39m'\u001b[39m\u001b[39mwinner\u001b[39m\u001b[39m'\u001b[39m]\n\u001b[1;32m     13\u001b[0m \u001b[39m# print(moves)\u001b[39;00m\n\u001b[1;32m     14\u001b[0m \u001b[39m# print(winner)\u001b[39;00m\n\u001b[0;32m---> 16\u001b[0m data \u001b[39m=\u001b[39m algebraic_game_to_training_dataset(moves, winner)\n\u001b[1;32m     18\u001b[0m \u001b[39mfor\u001b[39;00m j \u001b[39min\u001b[39;00m \u001b[39mrange\u001b[39m(\u001b[39mlen\u001b[39m(data[\u001b[39m'\u001b[39m\u001b[39mboards\u001b[39m\u001b[39m'\u001b[39m])):\n\u001b[1;32m     19\u001b[0m     board \u001b[39m=\u001b[39m data[\u001b[39m'\u001b[39m\u001b[39mboards\u001b[39m\u001b[39m'\u001b[39m][j]\n",
      "File \u001b[0;32m~/Projects/Python/Neuro-Gambit/chess_transformation.py:95\u001b[0m, in \u001b[0;36malgebraic_game_to_training_dataset\u001b[0;34m(moves, winner)\u001b[0m\n\u001b[1;32m     91\u001b[0m n_move \u001b[39m=\u001b[39m moves[i\u001b[39m+\u001b[39m\u001b[39m1\u001b[39m]\n\u001b[1;32m     92\u001b[0m \u001b[39mtry\u001b[39;00m:\n\u001b[1;32m     93\u001b[0m     \u001b[39m# print(board)\u001b[39;00m\n\u001b[1;32m     94\u001b[0m     \u001b[39m# print('\\n')\u001b[39;00m\n\u001b[0;32m---> 95\u001b[0m     board\u001b[39m.\u001b[39;49mpush_san(move)\n\u001b[1;32m     96\u001b[0m     n_move_uci \u001b[39m=\u001b[39m \u001b[39mstr\u001b[39m(board\u001b[39m.\u001b[39mparse_san(n_move))\n\u001b[1;32m     97\u001b[0m     board_linear \u001b[39m=\u001b[39m \u001b[39mlist\u001b[39m(\u001b[39mstr\u001b[39m(board)\u001b[39m.\u001b[39mreplace(\u001b[39m'\u001b[39m\u001b[39m\\n\u001b[39;00m\u001b[39m'\u001b[39m,\u001b[39m'\u001b[39m\u001b[39m \u001b[39m\u001b[39m'\u001b[39m)\u001b[39m.\u001b[39mreplace(\u001b[39m'\u001b[39m\u001b[39m \u001b[39m\u001b[39m'\u001b[39m, \u001b[39m'\u001b[39m\u001b[39m'\u001b[39m))\n",
      "File \u001b[0;32m~/.local/lib/python3.10/site-packages/chess/__init__.py:3079\u001b[0m, in \u001b[0;36mBoard.push_san\u001b[0;34m(self, san)\u001b[0m\n\u001b[1;32m   3066\u001b[0m \u001b[39mdef\u001b[39;00m \u001b[39mpush_san\u001b[39m(\u001b[39mself\u001b[39m, san: \u001b[39mstr\u001b[39m) \u001b[39m-\u001b[39m\u001b[39m>\u001b[39m Move:\n\u001b[1;32m   3067\u001b[0m \u001b[39m    \u001b[39m\u001b[39m\"\"\"\u001b[39;00m\n\u001b[1;32m   3068\u001b[0m \u001b[39m    Parses a move in standard algebraic notation, makes the move and puts\u001b[39;00m\n\u001b[1;32m   3069\u001b[0m \u001b[39m    it onto the move stack.\u001b[39;00m\n\u001b[0;32m   (...)\u001b[0m\n\u001b[1;32m   3077\u001b[0m \u001b[39m            - :exc:`AmbiguousMoveError` if the SAN is ambiguous.\u001b[39;00m\n\u001b[1;32m   3078\u001b[0m \u001b[39m    \"\"\"\u001b[39;00m\n\u001b[0;32m-> 3079\u001b[0m     move \u001b[39m=\u001b[39m \u001b[39mself\u001b[39;49m\u001b[39m.\u001b[39;49mparse_san(san)\n\u001b[1;32m   3080\u001b[0m     \u001b[39mself\u001b[39m\u001b[39m.\u001b[39mpush(move)\n\u001b[1;32m   3081\u001b[0m     \u001b[39mreturn\u001b[39;00m move\n",
      "File \u001b[0;32m~/.local/lib/python3.10/site-packages/chess/__init__.py:3052\u001b[0m, in \u001b[0;36mBoard.parse_san\u001b[0;34m(self, san)\u001b[0m\n\u001b[1;32m   3050\u001b[0m \u001b[39m# Match legal moves.\u001b[39;00m\n\u001b[1;32m   3051\u001b[0m matched_move \u001b[39m=\u001b[39m \u001b[39mNone\u001b[39;00m\n\u001b[0;32m-> 3052\u001b[0m \u001b[39mfor\u001b[39;00m move \u001b[39min\u001b[39;00m \u001b[39mself\u001b[39m\u001b[39m.\u001b[39mgenerate_legal_moves(from_mask, to_mask):\n\u001b[1;32m   3053\u001b[0m     \u001b[39mif\u001b[39;00m move\u001b[39m.\u001b[39mpromotion \u001b[39m!=\u001b[39m promotion:\n\u001b[1;32m   3054\u001b[0m         \u001b[39mcontinue\u001b[39;00m\n",
      "File \u001b[0;32m~/.local/lib/python3.10/site-packages/chess/__init__.py:3568\u001b[0m, in \u001b[0;36mBoard.generate_legal_moves\u001b[0;34m(self, from_mask, to_mask)\u001b[0m\n\u001b[1;32m   3566\u001b[0m             \u001b[39myield\u001b[39;00m move\n\u001b[1;32m   3567\u001b[0m \u001b[39melse\u001b[39;00m:\n\u001b[0;32m-> 3568\u001b[0m     \u001b[39mfor\u001b[39;00m move \u001b[39min\u001b[39;00m \u001b[39mself\u001b[39m\u001b[39m.\u001b[39mgenerate_pseudo_legal_moves(from_mask, to_mask):\n\u001b[1;32m   3569\u001b[0m         \u001b[39mif\u001b[39;00m \u001b[39mself\u001b[39m\u001b[39m.\u001b[39m_is_safe(king, blockers, move):\n\u001b[1;32m   3570\u001b[0m             \u001b[39myield\u001b[39;00m move\n",
      "File \u001b[0;32m~/.local/lib/python3.10/site-packages/chess/__init__.py:1688\u001b[0m, in \u001b[0;36mBoard.generate_pseudo_legal_moves\u001b[0;34m(self, from_mask, to_mask)\u001b[0m\n\u001b[1;32m   1686\u001b[0m non_pawns \u001b[39m=\u001b[39m our_pieces \u001b[39m&\u001b[39m \u001b[39m~\u001b[39m\u001b[39mself\u001b[39m\u001b[39m.\u001b[39mpawns \u001b[39m&\u001b[39m from_mask\n\u001b[1;32m   1687\u001b[0m \u001b[39mfor\u001b[39;00m from_square \u001b[39min\u001b[39;00m scan_reversed(non_pawns):\n\u001b[0;32m-> 1688\u001b[0m     moves \u001b[39m=\u001b[39m \u001b[39mself\u001b[39;49m\u001b[39m.\u001b[39;49mattacks_mask(from_square) \u001b[39m&\u001b[39m \u001b[39m~\u001b[39mour_pieces \u001b[39m&\u001b[39m to_mask\n\u001b[1;32m   1689\u001b[0m     \u001b[39mfor\u001b[39;00m to_square \u001b[39min\u001b[39;00m scan_reversed(moves):\n\u001b[1;32m   1690\u001b[0m         \u001b[39myield\u001b[39;00m Move(from_square, to_square)\n",
      "\u001b[0;31mKeyboardInterrupt\u001b[0m: "
     ]
    }
   ],
   "source": [
    "from chess_transformation import *\n",
    "\n",
    "index = 0\n",
    "curr = 8130\n",
    "for i in range(curr, len(games)):\n",
    "# for i in range(1):\n",
    "    boards = []\n",
    "    move_list = []\n",
    "    game = games.iloc[i]\n",
    "\n",
    "    moves = game['moves']\n",
    "    winner = game['winner']\n",
    "    # print(moves)\n",
    "    # print(winner)\n",
    "\n",
    "    data = algebraic_game_to_training_dataset(moves, winner)\n",
    "\n",
    "    for j in range(len(data['boards'])):\n",
    "        board = data['boards'][j]\n",
    "        # alg = data['moves_alg'][j]\n",
    "        uci = data['moves_uci'][j]\n",
    "        # games_transformed.loc[index] = board+[winner]+[alg]+[uci]\n",
    "        games_transformed.loc[index] = board+[winner]+[uci]\n",
    "        index+=1\n",
    "        if index%1000 == 0: # save every 1000 games\n",
    "            games_transformed.to_csv('./data/games_cleaned_'+str(elo_or_year)+'.csv', index=False, mode='a', header=None)\n",
    "            games_transformed = pd.DataFrame(columns=columns)\n",
    "            print(str(i)+'/'+str(len(games)), end='\\r')\n",
    "\n",
    "\n",
    "# games_transformed.to_csv('./data/games_cleaned_'+str(elo_or_year)+'.csv', index=False)\n",
    "print(games_transformed)"
   ]
  },
  {
   "attachments": {},
   "cell_type": "markdown",
   "metadata": {},
   "source": [
    "## Scrambling"
   ]
  },
  {
   "cell_type": "code",
   "execution_count": 10,
   "metadata": {},
   "outputs": [
    {
     "name": "stdout",
     "output_type": "stream",
     "text": [
      "       p0 p1 p2 p3 p4 p5 p6 p7 p8 p9  ... p56 p57 p58 p59 p60 p61 p62 p63  \\\n",
      "0       .  .  r  q  .  r  k  .  p  p  ...   R   .   .   Q   .   R   K   .   \n",
      "1       .  r  .  .  .  r  .  .  .  p  ...   .   .   .   .   .   .   K   .   \n",
      "2       .  .  .  r  .  k  .  .  p  .  ...   .   .   .   .   R   .   K   .   \n",
      "3       r  .  q  b  r  .  .  k  .  b  ...   .   .   .   R   .   R   K   .   \n",
      "4       r  n  b  q  k  b  .  r  p  .  ...   R   .   .   Q   K   B   N   R   \n",
      "...    .. .. .. .. .. .. .. .. .. ..  ...  ..  ..  ..  ..  ..  ..  ..  ..   \n",
      "311995  .  .  .  .  .  .  .  .  .  .  ...   .   .   .   .   .   .   .   .   \n",
      "311996  .  .  .  r  .  r  .  k  p  p  ...   .   .   .   .   .   R   .   K   \n",
      "311997  .  .  .  .  .  r  k  .  .  .  ...   R   .   .   .   .   R   .   K   \n",
      "311998  r  .  b  q  .  r  k  .  .  p  ...   R   .   .   .   .   R   K   .   \n",
      "311999  r  .  .  .  k  .  .  r  p  p  ...   R   .   .   Q   .   R   K   .   \n",
      "\n",
      "       player   uci  \n",
      "0       white  b3d2  \n",
      "1       black  b8e8  \n",
      "2       white  g2c6  \n",
      "3       black  c6e5  \n",
      "4       white  f2f3  \n",
      "...       ...   ...  \n",
      "311995  white  g7h7  \n",
      "311996  white  h6g7  \n",
      "311997  black  f8b8  \n",
      "311998  black  e4c3  \n",
      "311999  black  e8g8  \n",
      "\n",
      "[312000 rows x 66 columns]\n"
     ]
    }
   ],
   "source": [
    "import pandas as pd\n",
    "\n",
    "games_cleaned = pd.read_csv('./data/games_cleaned_'+str(elo_or_year)+'.csv')\n",
    "games_cleaned = games_cleaned.sample(frac = 1).reset_index(drop=True)\n",
    "print(games_cleaned)\n",
    "games_cleaned.to_csv('./data/games_cleaned_'+str(elo_or_year)+'_scrambled.csv', index=False)"
   ]
  },
  {
   "attachments": {},
   "cell_type": "markdown",
   "metadata": {},
   "source": [
    "## Turning the data to tensors"
   ]
  },
  {
   "cell_type": "code",
   "execution_count": 11,
   "metadata": {},
   "outputs": [
    {
     "name": "stdout",
     "output_type": "stream",
     "text": [
      "       p0 p1 p2 p3 p4 p5 p6 p7 p8 p9  ... p56 p57 p58 p59 p60 p61 p62 p63  \\\n",
      "0       .  .  r  q  .  r  k  .  p  p  ...   R   .   .   Q   .   R   K   .   \n",
      "1       .  r  .  .  .  r  .  .  .  p  ...   .   .   .   .   .   .   K   .   \n",
      "2       .  .  .  r  .  k  .  .  p  .  ...   .   .   .   .   R   .   K   .   \n",
      "3       r  .  q  b  r  .  .  k  .  b  ...   .   .   .   R   .   R   K   .   \n",
      "4       r  n  b  q  k  b  .  r  p  .  ...   R   .   .   Q   K   B   N   R   \n",
      "...    .. .. .. .. .. .. .. .. .. ..  ...  ..  ..  ..  ..  ..  ..  ..  ..   \n",
      "311995  .  .  .  .  .  .  .  .  .  .  ...   .   .   .   .   .   .   .   .   \n",
      "311996  .  .  .  r  .  r  .  k  p  p  ...   .   .   .   .   .   R   .   K   \n",
      "311997  .  .  .  .  .  r  k  .  .  .  ...   R   .   .   .   .   R   .   K   \n",
      "311998  r  .  b  q  .  r  k  .  .  p  ...   R   .   .   .   .   R   K   .   \n",
      "311999  r  .  .  .  k  .  .  r  p  p  ...   R   .   .   Q   .   R   K   .   \n",
      "\n",
      "       player   uci  \n",
      "0       white  b3d2  \n",
      "1       black  b8e8  \n",
      "2       white  g2c6  \n",
      "3       black  c6e5  \n",
      "4       white  f2f3  \n",
      "...       ...   ...  \n",
      "311995  white  g7h7  \n",
      "311996  white  h6g7  \n",
      "311997  black  f8b8  \n",
      "311998  black  e4c3  \n",
      "311999  black  e8g8  \n",
      "\n",
      "[312000 rows x 66 columns]\n"
     ]
    }
   ],
   "source": [
    "import torch\n",
    "from model import one_hot_encode_labels, encode_player_col\n",
    "from chess_transformation import encode_uci\n",
    "import pandas as pd\n",
    "\n",
    "data_pandas = pd.read_csv('./data/games_cleaned_'+str(elo_or_year)+'_scrambled.csv')\n",
    "print(data_pandas)"
   ]
  },
  {
   "cell_type": "code",
   "execution_count": 12,
   "metadata": {},
   "outputs": [
    {
     "name": "stdout",
     "output_type": "stream",
     "text": [
      "torch.Size([312000, 833])\n"
     ]
    }
   ],
   "source": [
    "position_columns = ['p'+str(i) for i in range(64)]\n",
    "\n",
    "X_pos_pandas = data_pandas[position_columns]\n",
    "X_col_pandas = data_pandas['player']\n",
    "\n",
    "X_pos_values = X_pos_pandas.values\n",
    "X_col_values = X_col_pandas.values\n",
    "X_list = []\n",
    "i = 0\n",
    "for i in range(len(X_pos_values)):\n",
    "    x_pos = X_pos_values[i]\n",
    "    x_pos_encoded = one_hot_encode_labels(x_pos)\n",
    "    x_col = X_col_values[i]\n",
    "    x_col_encoded = encode_player_col(x_col)\n",
    "\n",
    "    x = torch.cat((x_pos_encoded, x_col_encoded.unsqueeze(1)), dim=1)\n",
    "    X_list.append(x)\n",
    "\n",
    "X = torch.cat(X_list, dim=0)\n",
    "print(X.shape)\n",
    "torch.save(X, './large_data/X_tensor_'+str(elo_or_year)+'.pt')"
   ]
  },
  {
   "cell_type": "code",
   "execution_count": 13,
   "metadata": {},
   "outputs": [
    {
     "name": "stdout",
     "output_type": "stream",
     "text": [
      "torch.Size([312000, 36])\n"
     ]
    }
   ],
   "source": [
    "Y_pandas = data_pandas['uci']\n",
    "Y_pandas_values = Y_pandas.values\n",
    "Y_list = []\n",
    "for i in range(len(Y_pandas_values)):\n",
    "    y_val = Y_pandas_values[i]\n",
    "    y = encode_uci(y_val)\n",
    "    Y_list.append(y)\n",
    "\n",
    "Y = torch.cat(Y_list, dim=0)\n",
    "print(Y.shape)\n",
    "torch.save(Y, './large_data/Y_tensor_'+str(elo_or_year)+'.pt')"
   ]
  }
 ],
 "metadata": {
  "kernelspec": {
   "display_name": "Python 3",
   "language": "python",
   "name": "python3"
  },
  "language_info": {
   "codemirror_mode": {
    "name": "ipython",
    "version": 3
   },
   "file_extension": ".py",
   "mimetype": "text/x-python",
   "name": "python",
   "nbconvert_exporter": "python",
   "pygments_lexer": "ipython3",
   "version": "3.10.6"
  },
  "orig_nbformat": 4
 },
 "nbformat": 4,
 "nbformat_minor": 2
}
