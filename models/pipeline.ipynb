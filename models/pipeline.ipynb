{
 "cells": [
  {
   "cell_type": "markdown",
   "metadata": {},
   "source": [
    "## Imports"
   ]
  },
  {
   "cell_type": "code",
   "execution_count": 1,
   "metadata": {},
   "outputs": [],
   "source": [
    "import torch\n",
    "import torch.nn as nn\n",
    "from model import Neuro_gambit, Neuro_gambit_2, Neuro_gambit_3\n",
    "from torch.utils.data import DataLoader"
   ]
  },
  {
   "cell_type": "markdown",
   "metadata": {},
   "source": [
    "## ELO or Year init"
   ]
  },
  {
   "cell_type": "code",
   "execution_count": 2,
   "metadata": {},
   "outputs": [],
   "source": [
    "elo_or_year = 2010"
   ]
  },
  {
   "cell_type": "markdown",
   "metadata": {},
   "source": [
    "## Device init"
   ]
  },
  {
   "cell_type": "code",
   "execution_count": 3,
   "metadata": {},
   "outputs": [
    {
     "name": "stdout",
     "output_type": "stream",
     "text": [
      "cuda\n"
     ]
    }
   ],
   "source": [
    "device = torch.device('cuda' if torch.cuda.is_available() else 'cpu') # using cuda\n",
    "print(device)"
   ]
  },
  {
   "cell_type": "markdown",
   "metadata": {},
   "source": [
    "## Loading Tensors"
   ]
  },
  {
   "cell_type": "code",
   "execution_count": 5,
   "metadata": {},
   "outputs": [
    {
     "name": "stdout",
     "output_type": "stream",
     "text": [
      "torch.Size([238000, 833])\n",
      "torch.Size([238000, 36])\n",
      "3\n"
     ]
    }
   ],
   "source": [
    "batch_size = 100000\n",
    "\n",
    "X = torch.load('./large_data/X_tensor_'+str(elo_or_year)+'.pt')\n",
    "Y = torch.load('./large_data/Y_tensor_'+str(elo_or_year)+'.pt')\n",
    "\n",
    "print(X.shape)\n",
    "print(Y.shape)\n",
    "\n",
    "X_loader = DataLoader(X, batch_size=batch_size, shuffle=False)\n",
    "Y_loader = DataLoader(Y, batch_size=batch_size, shuffle=False)\n",
    "\n",
    "total_batches = len(X_loader)\n",
    "print(total_batches)"
   ]
  },
  {
   "cell_type": "markdown",
   "metadata": {},
   "source": [
    "## Model class init"
   ]
  },
  {
   "cell_type": "code",
   "execution_count": 5,
   "metadata": {},
   "outputs": [],
   "source": [
    "# model = Neuro_gambit().to(device)\n",
    "model = Neuro_gambit_2().to(device)\n",
    "# model = Neuro_gambit_3().to(device)"
   ]
  },
  {
   "cell_type": "markdown",
   "metadata": {},
   "source": [
    "## Learning params init"
   ]
  },
  {
   "cell_type": "code",
   "execution_count": 6,
   "metadata": {},
   "outputs": [],
   "source": [
    "# epochs, loss, and optim\n",
    "learning_rate = 0.001\n",
    "n_epochs = 1000000\n",
    "\n",
    "# loss and optimizer functions from pytorch\n",
    "criterion = nn.MSELoss() # MSE function\n",
    "# optimizer = torch.optim.SGD(params=model.parameters(), lr=learning_rate) # stochastic gradient descent function\n",
    "optimizer = torch.optim.AdamW(params=model.parameters(), lr=learning_rate) # way better performance with AdamW than SGD"
   ]
  },
  {
   "cell_type": "markdown",
   "metadata": {},
   "source": [
    "## Loading saved model"
   ]
  },
  {
   "cell_type": "code",
   "execution_count": 7,
   "metadata": {},
   "outputs": [
    {
     "data": {
      "text/plain": [
       "Neuro_gambit_2(\n",
       "  (encoder): Sequential(\n",
       "    (0): Linear(in_features=833, out_features=1024, bias=True)\n",
       "    (1): ReLU()\n",
       "    (2): Linear(in_features=1024, out_features=512, bias=True)\n",
       "    (3): ReLU()\n",
       "    (4): Linear(in_features=512, out_features=256, bias=True)\n",
       "    (5): ReLU()\n",
       "  )\n",
       "  (decoder): Sequential(\n",
       "    (0): Linear(in_features=256, out_features=512, bias=True)\n",
       "    (1): ReLU()\n",
       "    (2): Linear(in_features=512, out_features=128, bias=True)\n",
       "    (3): ReLU()\n",
       "    (4): Linear(in_features=128, out_features=64, bias=True)\n",
       "    (5): ReLU()\n",
       "    (6): Linear(in_features=64, out_features=36, bias=True)\n",
       "  )\n",
       ")"
      ]
     },
     "execution_count": 7,
     "metadata": {},
     "output_type": "execute_result"
    }
   ],
   "source": [
    "model.load_state_dict(torch.load('./models/'+str(model._get_name())+'_'+str(elo_or_year)+'.pt')) # it takes the loaded dictionary, not the path file itself\n",
    "model.eval()\n",
    "model.to(device)"
   ]
  },
  {
   "cell_type": "markdown",
   "metadata": {},
   "source": [
    "## Current Loss"
   ]
  },
  {
   "cell_type": "code",
   "execution_count": 8,
   "metadata": {},
   "outputs": [
    {
     "name": "stdout",
     "output_type": "stream",
     "text": [
      "Current loss: 5.731%\n"
     ]
    }
   ],
   "source": [
    "min_loss = 1\n",
    "\n",
    "# seperating the Y\n",
    "Y1 = Y[:, :8]\n",
    "Y2 = Y[:, 8:16]\n",
    "Y3 = Y[:, 16:24]\n",
    "Y4 = Y[:, 24:32]\n",
    "Y5 = Y[:, 32:]\n",
    "\n",
    "Y_list = [Y1,Y2,Y3,Y4,Y5]\n",
    "\n",
    "with torch.no_grad():\n",
    "    y_preds = model(X.to(device)) # will output a tuple of 5 tensors\n",
    "\n",
    "    total_loss = 0\n",
    "    for i in range(len(y_preds)): # calculating the loss per tensor\n",
    "        y_pred = y_preds[i]\n",
    "        total_loss += criterion(y_pred, Y_list[i].to(device))\n",
    "\n",
    "    print('Current loss:', f'{total_loss.item()*100:.3f}%')\n",
    "    min_loss = total_loss\n"
   ]
  },
  {
   "cell_type": "markdown",
   "metadata": {},
   "source": [
    "## Training"
   ]
  },
  {
   "cell_type": "code",
   "execution_count": 17,
   "metadata": {},
   "outputs": [
    {
     "name": "stdout",
     "output_type": "stream",
     "text": [
      "Epoch [20/1000000], Batch [4/4], Loss: 0.1596\r"
     ]
    },
    {
     "ename": "KeyboardInterrupt",
     "evalue": "",
     "output_type": "error",
     "traceback": [
      "\u001b[0;31m---------------------------------------------------------------------------\u001b[0m",
      "\u001b[0;31mKeyboardInterrupt\u001b[0m                         Traceback (most recent call last)",
      "\u001b[0;32m<ipython-input-17-be9241bb9a29>\u001b[0m in \u001b[0;36m<module>\u001b[0;34m\u001b[0m\n\u001b[1;32m      1\u001b[0m \u001b[0;32mfor\u001b[0m \u001b[0mepoch\u001b[0m \u001b[0;32min\u001b[0m \u001b[0mrange\u001b[0m\u001b[0;34m(\u001b[0m\u001b[0mn_epochs\u001b[0m\u001b[0;34m)\u001b[0m\u001b[0;34m:\u001b[0m\u001b[0;34m\u001b[0m\u001b[0;34m\u001b[0m\u001b[0m\n\u001b[1;32m      2\u001b[0m     \u001b[0mbatch\u001b[0m \u001b[0;34m=\u001b[0m \u001b[0;36m0\u001b[0m\u001b[0;34m\u001b[0m\u001b[0;34m\u001b[0m\u001b[0m\n\u001b[0;32m----> 3\u001b[0;31m     \u001b[0;32mfor\u001b[0m \u001b[0mX_batch\u001b[0m\u001b[0;34m,\u001b[0m \u001b[0mY_batch\u001b[0m \u001b[0;32min\u001b[0m \u001b[0mzip\u001b[0m\u001b[0;34m(\u001b[0m\u001b[0mX_loader\u001b[0m\u001b[0;34m,\u001b[0m \u001b[0mY_loader\u001b[0m\u001b[0;34m)\u001b[0m\u001b[0;34m:\u001b[0m\u001b[0;34m\u001b[0m\u001b[0;34m\u001b[0m\u001b[0m\n\u001b[0m\u001b[1;32m      4\u001b[0m         \u001b[0mX_batch\u001b[0m \u001b[0;34m=\u001b[0m \u001b[0mX_batch\u001b[0m\u001b[0;34m.\u001b[0m\u001b[0mto\u001b[0m\u001b[0;34m(\u001b[0m\u001b[0mdevice\u001b[0m\u001b[0;34m)\u001b[0m\u001b[0;34m\u001b[0m\u001b[0;34m\u001b[0m\u001b[0m\n\u001b[1;32m      5\u001b[0m         \u001b[0mY_batch\u001b[0m \u001b[0;34m=\u001b[0m \u001b[0mY_batch\u001b[0m\u001b[0;34m.\u001b[0m\u001b[0mto\u001b[0m\u001b[0;34m(\u001b[0m\u001b[0mdevice\u001b[0m\u001b[0;34m)\u001b[0m\u001b[0;34m\u001b[0m\u001b[0;34m\u001b[0m\u001b[0m\n",
      "\u001b[0;32m/usr/lib/python3/dist-packages/torch/utils/data/dataloader.py\u001b[0m in \u001b[0;36m__next__\u001b[0;34m(self)\u001b[0m\n\u001b[1;32m    626\u001b[0m                 \u001b[0;31m# TODO(https://github.com/pytorch/pytorch/issues/76750)\u001b[0m\u001b[0;34m\u001b[0m\u001b[0;34m\u001b[0m\u001b[0;34m\u001b[0m\u001b[0m\n\u001b[1;32m    627\u001b[0m                 \u001b[0mself\u001b[0m\u001b[0;34m.\u001b[0m\u001b[0m_reset\u001b[0m\u001b[0;34m(\u001b[0m\u001b[0;34m)\u001b[0m  \u001b[0;31m# type: ignore[call-arg]\u001b[0m\u001b[0;34m\u001b[0m\u001b[0;34m\u001b[0m\u001b[0m\n\u001b[0;32m--> 628\u001b[0;31m             \u001b[0mdata\u001b[0m \u001b[0;34m=\u001b[0m \u001b[0mself\u001b[0m\u001b[0;34m.\u001b[0m\u001b[0m_next_data\u001b[0m\u001b[0;34m(\u001b[0m\u001b[0;34m)\u001b[0m\u001b[0;34m\u001b[0m\u001b[0;34m\u001b[0m\u001b[0m\n\u001b[0m\u001b[1;32m    629\u001b[0m             \u001b[0mself\u001b[0m\u001b[0;34m.\u001b[0m\u001b[0m_num_yielded\u001b[0m \u001b[0;34m+=\u001b[0m \u001b[0;36m1\u001b[0m\u001b[0;34m\u001b[0m\u001b[0;34m\u001b[0m\u001b[0m\n\u001b[1;32m    630\u001b[0m             \u001b[0;32mif\u001b[0m \u001b[0mself\u001b[0m\u001b[0;34m.\u001b[0m\u001b[0m_dataset_kind\u001b[0m \u001b[0;34m==\u001b[0m \u001b[0m_DatasetKind\u001b[0m\u001b[0;34m.\u001b[0m\u001b[0mIterable\u001b[0m \u001b[0;32mand\u001b[0m\u001b[0;31m \u001b[0m\u001b[0;31m\\\u001b[0m\u001b[0;34m\u001b[0m\u001b[0;34m\u001b[0m\u001b[0m\n",
      "\u001b[0;32m/usr/lib/python3/dist-packages/torch/utils/data/dataloader.py\u001b[0m in \u001b[0;36m_next_data\u001b[0;34m(self)\u001b[0m\n\u001b[1;32m    669\u001b[0m     \u001b[0;32mdef\u001b[0m \u001b[0m_next_data\u001b[0m\u001b[0;34m(\u001b[0m\u001b[0mself\u001b[0m\u001b[0;34m)\u001b[0m\u001b[0;34m:\u001b[0m\u001b[0;34m\u001b[0m\u001b[0;34m\u001b[0m\u001b[0m\n\u001b[1;32m    670\u001b[0m         \u001b[0mindex\u001b[0m \u001b[0;34m=\u001b[0m \u001b[0mself\u001b[0m\u001b[0;34m.\u001b[0m\u001b[0m_next_index\u001b[0m\u001b[0;34m(\u001b[0m\u001b[0;34m)\u001b[0m  \u001b[0;31m# may raise StopIteration\u001b[0m\u001b[0;34m\u001b[0m\u001b[0;34m\u001b[0m\u001b[0m\n\u001b[0;32m--> 671\u001b[0;31m         \u001b[0mdata\u001b[0m \u001b[0;34m=\u001b[0m \u001b[0mself\u001b[0m\u001b[0;34m.\u001b[0m\u001b[0m_dataset_fetcher\u001b[0m\u001b[0;34m.\u001b[0m\u001b[0mfetch\u001b[0m\u001b[0;34m(\u001b[0m\u001b[0mindex\u001b[0m\u001b[0;34m)\u001b[0m  \u001b[0;31m# may raise StopIteration\u001b[0m\u001b[0;34m\u001b[0m\u001b[0;34m\u001b[0m\u001b[0m\n\u001b[0m\u001b[1;32m    672\u001b[0m         \u001b[0;32mif\u001b[0m \u001b[0mself\u001b[0m\u001b[0;34m.\u001b[0m\u001b[0m_pin_memory\u001b[0m\u001b[0;34m:\u001b[0m\u001b[0;34m\u001b[0m\u001b[0;34m\u001b[0m\u001b[0m\n\u001b[1;32m    673\u001b[0m             \u001b[0mdata\u001b[0m \u001b[0;34m=\u001b[0m \u001b[0m_utils\u001b[0m\u001b[0;34m.\u001b[0m\u001b[0mpin_memory\u001b[0m\u001b[0;34m.\u001b[0m\u001b[0mpin_memory\u001b[0m\u001b[0;34m(\u001b[0m\u001b[0mdata\u001b[0m\u001b[0;34m,\u001b[0m \u001b[0mself\u001b[0m\u001b[0;34m.\u001b[0m\u001b[0m_pin_memory_device\u001b[0m\u001b[0;34m)\u001b[0m\u001b[0;34m\u001b[0m\u001b[0;34m\u001b[0m\u001b[0m\n",
      "\u001b[0;32m/usr/lib/python3/dist-packages/torch/utils/data/_utils/fetch.py\u001b[0m in \u001b[0;36mfetch\u001b[0;34m(self, possibly_batched_index)\u001b[0m\n\u001b[1;32m     56\u001b[0m                 \u001b[0mdata\u001b[0m \u001b[0;34m=\u001b[0m \u001b[0mself\u001b[0m\u001b[0;34m.\u001b[0m\u001b[0mdataset\u001b[0m\u001b[0;34m.\u001b[0m\u001b[0m__getitems__\u001b[0m\u001b[0;34m(\u001b[0m\u001b[0mpossibly_batched_index\u001b[0m\u001b[0;34m)\u001b[0m\u001b[0;34m\u001b[0m\u001b[0;34m\u001b[0m\u001b[0m\n\u001b[1;32m     57\u001b[0m             \u001b[0;32melse\u001b[0m\u001b[0;34m:\u001b[0m\u001b[0;34m\u001b[0m\u001b[0;34m\u001b[0m\u001b[0m\n\u001b[0;32m---> 58\u001b[0;31m                 \u001b[0mdata\u001b[0m \u001b[0;34m=\u001b[0m \u001b[0;34m[\u001b[0m\u001b[0mself\u001b[0m\u001b[0;34m.\u001b[0m\u001b[0mdataset\u001b[0m\u001b[0;34m[\u001b[0m\u001b[0midx\u001b[0m\u001b[0;34m]\u001b[0m \u001b[0;32mfor\u001b[0m \u001b[0midx\u001b[0m \u001b[0;32min\u001b[0m \u001b[0mpossibly_batched_index\u001b[0m\u001b[0;34m]\u001b[0m\u001b[0;34m\u001b[0m\u001b[0;34m\u001b[0m\u001b[0m\n\u001b[0m\u001b[1;32m     59\u001b[0m         \u001b[0;32melse\u001b[0m\u001b[0;34m:\u001b[0m\u001b[0;34m\u001b[0m\u001b[0;34m\u001b[0m\u001b[0m\n\u001b[1;32m     60\u001b[0m             \u001b[0mdata\u001b[0m \u001b[0;34m=\u001b[0m \u001b[0mself\u001b[0m\u001b[0;34m.\u001b[0m\u001b[0mdataset\u001b[0m\u001b[0;34m[\u001b[0m\u001b[0mpossibly_batched_index\u001b[0m\u001b[0;34m]\u001b[0m\u001b[0;34m\u001b[0m\u001b[0;34m\u001b[0m\u001b[0m\n",
      "\u001b[0;32m/usr/lib/python3/dist-packages/torch/utils/data/_utils/fetch.py\u001b[0m in \u001b[0;36m<listcomp>\u001b[0;34m(.0)\u001b[0m\n\u001b[1;32m     56\u001b[0m                 \u001b[0mdata\u001b[0m \u001b[0;34m=\u001b[0m \u001b[0mself\u001b[0m\u001b[0;34m.\u001b[0m\u001b[0mdataset\u001b[0m\u001b[0;34m.\u001b[0m\u001b[0m__getitems__\u001b[0m\u001b[0;34m(\u001b[0m\u001b[0mpossibly_batched_index\u001b[0m\u001b[0;34m)\u001b[0m\u001b[0;34m\u001b[0m\u001b[0;34m\u001b[0m\u001b[0m\n\u001b[1;32m     57\u001b[0m             \u001b[0;32melse\u001b[0m\u001b[0;34m:\u001b[0m\u001b[0;34m\u001b[0m\u001b[0;34m\u001b[0m\u001b[0m\n\u001b[0;32m---> 58\u001b[0;31m                 \u001b[0mdata\u001b[0m \u001b[0;34m=\u001b[0m \u001b[0;34m[\u001b[0m\u001b[0mself\u001b[0m\u001b[0;34m.\u001b[0m\u001b[0mdataset\u001b[0m\u001b[0;34m[\u001b[0m\u001b[0midx\u001b[0m\u001b[0;34m]\u001b[0m \u001b[0;32mfor\u001b[0m \u001b[0midx\u001b[0m \u001b[0;32min\u001b[0m \u001b[0mpossibly_batched_index\u001b[0m\u001b[0;34m]\u001b[0m\u001b[0;34m\u001b[0m\u001b[0;34m\u001b[0m\u001b[0m\n\u001b[0m\u001b[1;32m     59\u001b[0m         \u001b[0;32melse\u001b[0m\u001b[0;34m:\u001b[0m\u001b[0;34m\u001b[0m\u001b[0;34m\u001b[0m\u001b[0m\n\u001b[1;32m     60\u001b[0m             \u001b[0mdata\u001b[0m \u001b[0;34m=\u001b[0m \u001b[0mself\u001b[0m\u001b[0;34m.\u001b[0m\u001b[0mdataset\u001b[0m\u001b[0;34m[\u001b[0m\u001b[0mpossibly_batched_index\u001b[0m\u001b[0;34m]\u001b[0m\u001b[0;34m\u001b[0m\u001b[0;34m\u001b[0m\u001b[0m\n",
      "\u001b[0;31mKeyboardInterrupt\u001b[0m: "
     ]
    }
   ],
   "source": [
    "for epoch in range(n_epochs):\n",
    "    batch = 0\n",
    "    for X_batch, Y_batch in zip(X_loader, Y_loader):\n",
    "        X_batch = X_batch.to(device)\n",
    "        Y_batch = Y_batch.to(device)\n",
    "        # forward\n",
    "        y_preds = model(X_batch) # will output a tuple of 5 tensors\n",
    "\n",
    "        # seperating the Y\n",
    "        Y1 = Y_batch[:, :8]\n",
    "        Y2 = Y_batch[:, 8:16]\n",
    "        Y3 = Y_batch[:, 16:24]\n",
    "        Y4 = Y_batch[:, 24:32]\n",
    "        Y5 = Y_batch[:, 32:]\n",
    "\n",
    "        Y_list = [Y1,Y2,Y3,Y4,Y5]\n",
    "\n",
    "        total_loss = 0\n",
    "        for i in range(len(y_preds)): # calculating the loss per tensor\n",
    "            y_pred = y_preds[i]\n",
    "            total_loss += criterion(y_pred, Y_list[i])\n",
    "\n",
    "        # backward\n",
    "        optimizer.zero_grad()\n",
    "        total_loss.backward()\n",
    "        optimizer.step()\n",
    "\n",
    "        if (batch+1) % 2 == 0:\n",
    "            print(f'Epoch [{epoch+1}/{n_epochs}], Batch [{batch+1}/{total_batches}], Loss: {total_loss.item():.4f}', end='\\r')\n",
    "        batch+=1"
   ]
  },
  {
   "cell_type": "code",
   "execution_count": null,
   "metadata": {},
   "outputs": [
    {
     "name": "stdout",
     "output_type": "stream",
     "text": [
      "model saved, loss: 0.05326352268457413\n"
     ]
    }
   ],
   "source": [
    "from IPython.display import clear_output\n",
    "# seperating the Y\n",
    "Y1 = Y[:, :8]\n",
    "Y2 = Y[:, 8:16]\n",
    "Y3 = Y[:, 16:24]\n",
    "Y4 = Y[:, 24:32]\n",
    "Y5 = Y[:, 32:]\n",
    "\n",
    "Y_list = [Y1,Y2,Y3,Y4,Y5]\n",
    "\n",
    "for epoch in range(n_epochs):\n",
    "    # forward\n",
    "    y_preds = model(X.to(device)) # will output a tuple of 5 tensors\n",
    "\n",
    "    total_loss = 0\n",
    "    for i in range(len(y_preds)): # calculating the loss per tensor\n",
    "        y_pred = y_preds[i]\n",
    "        total_loss += criterion(y_pred, Y_list[i].to(device))\n",
    "\n",
    "    # backward\n",
    "    optimizer.zero_grad()\n",
    "    total_loss.backward()\n",
    "    optimizer.step()\n",
    "\n",
    "    if (epoch) % 5 == 0:\n",
    "        print(f'Epoch [{epoch+1}/{n_epochs}], Loss: {total_loss.item():.4f}', end='\\r')\n",
    "    \n",
    "    if total_loss.item() < min_loss:\n",
    "        min_loss = total_loss.item()\n",
    "        clear_output()\n",
    "        print('model saved, loss:', min_loss)\n",
    "        torch.save(model.state_dict(), './models/'+str(model._get_name())+'_'+str(elo_or_year)+'.pt')"
   ]
  },
  {
   "cell_type": "markdown",
   "metadata": {},
   "source": [
    "## Saving the model"
   ]
  },
  {
   "cell_type": "code",
   "execution_count": 12,
   "metadata": {},
   "outputs": [
    {
     "name": "stdout",
     "output_type": "stream",
     "text": [
      "Model saved\n"
     ]
    }
   ],
   "source": [
    "# Save the model\n",
    "torch.save(model.state_dict(), './models/'+str(model._get_name())+'_'+str(elo_or_year)+'.pt')\n",
    "print('Model saved')"
   ]
  },
  {
   "cell_type": "markdown",
   "metadata": {},
   "source": [
    "## Saving the model to cpu"
   ]
  },
  {
   "cell_type": "code",
   "execution_count": null,
   "metadata": {},
   "outputs": [],
   "source": [
    "# Save the model\n",
    "cpu = torch.device('cpu') # using cuda\n",
    "model.to(cpu)\n",
    "torch.save(model.state_dict(), './models/'+str(model._get_name())+'_cpu_'+str(elo_or_year)+'.pt')\n",
    "print('Model saved')\n",
    "model.to(device)"
   ]
  },
  {
   "cell_type": "code",
   "execution_count": null,
   "metadata": {},
   "outputs": [],
   "source": [
    "# Playing a game\n",
    "from model import get_best_move\n",
    "import chess\n",
    "import chess.svg\n",
    "import matplotlib.pyplot as plt\n",
    "from cairosvg import svg2png\n",
    "import cv2\n",
    "from IPython.display import clear_output\n",
    "\n",
    "def draw_board(current_board, ai_col_chess):\n",
    "    \"\"\"Draw board\n",
    "\n",
    "    Keyword arguments:\n",
    "    current_board -- chess.Board()\n",
    "    from https://colab.research.google.com/github/iAmEthanMai/chess-engine-model/blob/main/python_chess_engine.ipynb#scrollTo=yveIUxzjUr2b\n",
    "    \"\"\"\n",
    "    board_img = chess.svg.board(current_board, flipped=ai_col_chess==chess.WHITE)\n",
    "    svg2png(bytestring=board_img,write_to='./boards/board.png')\n",
    "    img = cv2.imread('./boards/board.png', 1)\n",
    "    fig, ax = plt.subplots(figsize=(6, 6))\n",
    "    ax.axis('off')\n",
    "    plt.imshow(img)\n",
    "\n",
    "\n",
    "def get_algebraic_notation(move_stack):\n",
    "    board = chess.Board()\n",
    "    algebraic_moves = []\n",
    "    \n",
    "    for move in move_stack:\n",
    "        algebraic_moves.append(board.san(move))\n",
    "        board.push(move)\n",
    "    \n",
    "    return algebraic_moves\n",
    "\n",
    "\n",
    "board = chess.Board()\n",
    "ai_col = 'black'\n",
    "ai_col_chess = chess.BLACK if ai_col == 'black' else chess.WHITE\n",
    "last = None\n",
    "while not board.is_game_over():\n",
    "    # render game\n",
    "    clear_output()\n",
    "    alg_move_stack = get_algebraic_notation(board.move_stack)\n",
    "    print(\" \".join(alg_move_stack))\n",
    "    print(\"Last AI move:\", alg_move_stack[-1] if alg_move_stack != [] else '', last)\n",
    "    draw_board(board, ai_col_chess)\n",
    "    plt.show()\n",
    "\n",
    "    # handle moves\n",
    "    if board.turn == ai_col_chess:\n",
    "        move_prob = get_best_move(model, board, ai_col)\n",
    "        last = move_prob\n",
    "        board.push_uci(move_prob['move'])\n",
    "    else:\n",
    "        try:\n",
    "            user_input = input() # your input in algebraic\n",
    "            board.push_san(user_input)\n",
    "        except chess.IllegalMoveError:\n",
    "            print('Illegal move:', user_input)\n",
    "print('Winner:', 'white' if board.turn == chess.BLACK else 'black')\n"
   ]
  },
  {
   "cell_type": "code",
   "execution_count": null,
   "metadata": {},
   "outputs": [],
   "source": [
    "# Playing a game with itself\n",
    "from model import get_best_move\n",
    "import chess\n",
    "import chess.svg\n",
    "import matplotlib.pyplot as plt\n",
    "from cairosvg import svg2png\n",
    "import cv2\n",
    "from IPython.display import clear_output\n",
    "\n",
    "def draw_board(current_board, ai_col_chess):\n",
    "    \"\"\"Draw board\n",
    "\n",
    "    Keyword arguments:\n",
    "    current_board -- chess.Board()\n",
    "    from https://colab.research.google.com/github/iAmEthanMai/chess-engine-model/blob/main/python_chess_engine.ipynb#scrollTo=yveIUxzjUr2b\n",
    "    \"\"\"\n",
    "    board_img = chess.svg.board(current_board, flipped=ai_col_chess==chess.WHITE)\n",
    "    svg2png(bytestring=board_img,write_to='./boards/board.png')\n",
    "    img = cv2.imread('./boards/board.png', 1)\n",
    "    fig, ax = plt.subplots(figsize=(6, 6))\n",
    "    ax.axis('off')\n",
    "    plt.imshow(img)\n",
    "\n",
    "\n",
    "def get_algebraic_notation(move_stack):\n",
    "    board = chess.Board()\n",
    "    algebraic_moves = []\n",
    "    \n",
    "    for move in move_stack:\n",
    "        algebraic_moves.append(board.san(move))\n",
    "        board.push(move)\n",
    "    \n",
    "    return algebraic_moves\n",
    "\n",
    "\n",
    "board = chess.Board()\n",
    "# ai_col_chess = chess.BLACK if ai_col == 'black' else chess.WHITE\n",
    "last = None\n",
    "while not board.is_game_over():\n",
    "    # handle moves\n",
    "    move_prob = get_best_move(model, board, 'black' if board.turn == chess.BLACK else \"white\")\n",
    "    last = move_prob\n",
    "    board.push_uci(move_prob['move'])\n",
    "alg_move_stack = get_algebraic_notation(board.move_stack)\n",
    "print(len(alg_move_stack))\n",
    "print(\" \".join(alg_move_stack))\n",
    "if board.is_variant_draw():\n",
    "    print(\"Draw\")\n",
    "else:\n",
    "    print('Winner:', 'white' if board.turn == chess.BLACK else 'black')"
   ]
  }
 ],
 "metadata": {
  "kernelspec": {
   "display_name": "Python 3",
   "language": "python",
   "name": "python3"
  },
  "language_info": {
   "codemirror_mode": {
    "name": "ipython",
    "version": 3
   },
   "file_extension": ".py",
   "mimetype": "text/x-python",
   "name": "python",
   "nbconvert_exporter": "python",
   "pygments_lexer": "ipython3",
   "version": "3.8.10"
  }
 },
 "nbformat": 4,
 "nbformat_minor": 2
}
