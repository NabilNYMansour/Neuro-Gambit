{
 "cells": [
  {
   "attachments": {},
   "cell_type": "markdown",
   "metadata": {},
   "source": [
    "## Imports"
   ]
  },
  {
   "cell_type": "code",
   "execution_count": null,
   "metadata": {},
   "outputs": [],
   "source": [
    "import torch\n",
    "import torch.nn as nn\n",
    "from model import Neuro_gambit"
   ]
  },
  {
   "attachments": {},
   "cell_type": "markdown",
   "metadata": {},
   "source": [
    "## ELO init"
   ]
  },
  {
   "cell_type": "code",
   "execution_count": null,
   "metadata": {},
   "outputs": [],
   "source": [
    "elo = 2000"
   ]
  },
  {
   "attachments": {},
   "cell_type": "markdown",
   "metadata": {},
   "source": [
    "## Device init"
   ]
  },
  {
   "cell_type": "code",
   "execution_count": null,
   "metadata": {},
   "outputs": [],
   "source": [
    "device = torch.device('cuda' if torch.cuda.is_available() else 'cpu') # using cuda\n",
    "cpu = torch.device('cpu') # using cpu"
   ]
  },
  {
   "attachments": {},
   "cell_type": "markdown",
   "metadata": {},
   "source": [
    "## Loading Tensors"
   ]
  },
  {
   "cell_type": "code",
   "execution_count": null,
   "metadata": {},
   "outputs": [],
   "source": [
    "X = torch.load('./data/X_tensor_'+str(elo)+'.pt').to(device)\n",
    "Y = torch.load('./data/Y_tensor_'+str(elo)+'.pt').to(device)\n",
    "print(X.shape)\n",
    "print(Y.shape)\n",
    "\n",
    "# seperating the Y\n",
    "Y1 = Y[:, :8]\n",
    "Y2 = Y[:, 8:16]\n",
    "Y3 = Y[:, 16:24]\n",
    "Y4 = Y[:, 24:32]\n",
    "Y5 = Y[:, 32:]\n",
    "\n",
    "Y = [Y1,Y2,Y3,Y4,Y5]"
   ]
  },
  {
   "attachments": {},
   "cell_type": "markdown",
   "metadata": {},
   "source": [
    "## Model class init"
   ]
  },
  {
   "cell_type": "code",
   "execution_count": null,
   "metadata": {},
   "outputs": [],
   "source": [
    "model = Neuro_gambit().to(device)\n",
    "\n",
    "# epochs, loss, and optim\n",
    "learning_rate = 0.001\n",
    "n_epochs = 1000000\n",
    "\n",
    "# loss and optimizer functions from pytorch\n",
    "criterion = nn.MSELoss() # MSE function\n",
    "# optimizer = torch.optim.SGD(params=model.parameters(), lr=learning_rate) # stochastic gradient descent function\n",
    "optimizer = torch.optim.AdamW(params=model.parameters(), lr=learning_rate) # way better performance with AdamW than SGD"
   ]
  },
  {
   "attachments": {},
   "cell_type": "markdown",
   "metadata": {},
   "source": [
    "## Loading saved model"
   ]
  },
  {
   "cell_type": "code",
   "execution_count": null,
   "metadata": {},
   "outputs": [],
   "source": [
    "model.load_state_dict(torch.load('./models/neuro_gambit_'+str(elo)+'.pt')) # it takes the loaded dictionary, not the path file itself\n",
    "model.eval()"
   ]
  },
  {
   "attachments": {},
   "cell_type": "markdown",
   "metadata": {},
   "source": [
    "## Current Loss"
   ]
  },
  {
   "cell_type": "code",
   "execution_count": null,
   "metadata": {},
   "outputs": [],
   "source": [
    "min_loss = 1\n",
    "with torch.no_grad():\n",
    "    y_preds = model(X) # will output a tuple of 5 tensors\n",
    "\n",
    "    total_loss = 0\n",
    "    for i in range(len(y_preds)): # calculating the loss per tensor\n",
    "        y_pred = y_preds[i]\n",
    "        total_loss += criterion(y_pred, Y[i])\n",
    "\n",
    "    print('Current loss:', f'{total_loss.item()*100:.3f}%')\n",
    "    min_loss = total_loss\n"
   ]
  },
  {
   "attachments": {},
   "cell_type": "markdown",
   "metadata": {},
   "source": [
    "## Training"
   ]
  },
  {
   "cell_type": "code",
   "execution_count": null,
   "metadata": {},
   "outputs": [],
   "source": [
    "for epoch in range(n_epochs):\n",
    "    # forward\n",
    "    y_preds = model(X) # will output a tuple of 5 tensors\n",
    "\n",
    "    total_loss = 0\n",
    "    for i in range(len(y_preds)): # calculating the loss per tensor\n",
    "        y_pred = y_preds[i]\n",
    "        total_loss += criterion(y_pred, Y[i])\n",
    "\n",
    "    # backward\n",
    "    optimizer.zero_grad()\n",
    "    total_loss.backward()\n",
    "    optimizer.step()\n",
    "\n",
    "    if (epoch+1) % 5 == 0:\n",
    "        print(f'Epoch [{epoch+1}/{n_epochs}], Loss: {total_loss.item():.4f}', end='\\r')\n",
    "\n",
    "    if total_loss.item() < min_loss:\n",
    "        min_loss = total_loss.item()\n",
    "        print('model saved, loss:', min_loss)\n",
    "        torch.save(model.state_dict(), './models/neuro_gambit_'+str(elo)+'.pt')"
   ]
  },
  {
   "attachments": {},
   "cell_type": "markdown",
   "metadata": {},
   "source": [
    "## Saving the model"
   ]
  },
  {
   "cell_type": "code",
   "execution_count": null,
   "metadata": {},
   "outputs": [],
   "source": [
    "# Save the model\n",
    "torch.save(model.state_dict(), './models/neuro_gambit_'+str(elo)+'.pt')\n",
    "print('Model saved')"
   ]
  },
  {
   "cell_type": "code",
   "execution_count": null,
   "metadata": {},
   "outputs": [],
   "source": [
    "# Playing a game\n",
    "from model import get_best_move\n",
    "import chess\n",
    "import chess.svg\n",
    "import matplotlib.pyplot as plt\n",
    "from cairosvg import svg2png\n",
    "import cv2\n",
    "from IPython.display import clear_output\n",
    "\n",
    "def draw_board(current_board, ai_col_chess):\n",
    "    \"\"\"Draw board\n",
    "\n",
    "    Keyword arguments:\n",
    "    current_board -- chess.Board()\n",
    "    from https://colab.research.google.com/github/iAmEthanMai/chess-engine-model/blob/main/python_chess_engine.ipynb#scrollTo=yveIUxzjUr2b\n",
    "    \"\"\"\n",
    "    board_img = chess.svg.board(current_board, flipped=ai_col_chess==chess.WHITE)\n",
    "    svg2png(bytestring=board_img,write_to='./boards/board.png')\n",
    "    img = cv2.imread('./boards/board.png', 1)\n",
    "    fig, ax = plt.subplots(figsize=(6, 6))\n",
    "    ax.axis('off')\n",
    "    plt.imshow(img)\n",
    "\n",
    "\n",
    "def get_algebraic_notation(move_stack):\n",
    "    board = chess.Board()\n",
    "    algebraic_moves = []\n",
    "    \n",
    "    for move in move_stack:\n",
    "        algebraic_moves.append(board.san(move))\n",
    "        board.push(move)\n",
    "    \n",
    "    return algebraic_moves\n",
    "\n",
    "\n",
    "board = chess.Board()\n",
    "ai_col = 'black'\n",
    "ai_col_chess = chess.BLACK if ai_col == 'black' else chess.WHITE\n",
    "last = None\n",
    "while not board.is_game_over():\n",
    "    # render game\n",
    "    clear_output()\n",
    "    alg_move_stack = get_algebraic_notation(board.move_stack)\n",
    "    print(\" \".join(alg_move_stack))\n",
    "    print(\"Last AI move:\", alg_move_stack[-1] if alg_move_stack != [] else '', last)\n",
    "    draw_board(board, ai_col_chess)\n",
    "    plt.show()\n",
    "\n",
    "    # handle moves\n",
    "    if board.turn == ai_col_chess:\n",
    "        move_prob = get_best_move(model, board, ai_col)\n",
    "        last = move_prob\n",
    "        board.push_uci(move_prob['move'])\n",
    "    else:\n",
    "        try:\n",
    "            user_input = input() # your input in algebraic\n",
    "            board.push_san(user_input)\n",
    "        except chess.IllegalMoveError:\n",
    "            print('Illegal move:', user_input)\n",
    "print('Winner:', 'white' if board.turn == chess.BLACK else 'black')\n"
   ]
  }
 ],
 "metadata": {
  "kernelspec": {
   "display_name": "Python 3",
   "language": "python",
   "name": "python3"
  },
  "language_info": {
   "codemirror_mode": {
    "name": "ipython",
    "version": 3
   },
   "file_extension": ".py",
   "mimetype": "text/x-python",
   "name": "python",
   "nbconvert_exporter": "python",
   "pygments_lexer": "ipython3",
   "version": "3.10.6"
  },
  "orig_nbformat": 4
 },
 "nbformat": 4,
 "nbformat_minor": 2
}
