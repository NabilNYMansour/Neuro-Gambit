{
 "cells": [
  {
   "attachments": {},
   "cell_type": "markdown",
   "metadata": {},
   "source": [
    "## Imports"
   ]
  },
  {
   "cell_type": "code",
   "execution_count": null,
   "metadata": {},
   "outputs": [],
   "source": [
    "import torch\n",
    "import torch.nn as nn\n",
    "import pandas as pd\n",
    "from model import Neuro_gambit"
   ]
  },
  {
   "attachments": {},
   "cell_type": "markdown",
   "metadata": {},
   "source": [
    "## ELO init"
   ]
  },
  {
   "cell_type": "code",
   "execution_count": null,
   "metadata": {},
   "outputs": [],
   "source": [
    "elo = 2500"
   ]
  },
  {
   "attachments": {},
   "cell_type": "markdown",
   "metadata": {},
   "source": [
    "## Device init"
   ]
  },
  {
   "cell_type": "code",
   "execution_count": null,
   "metadata": {},
   "outputs": [],
   "source": [
    "device = torch.device('cuda' if torch.cuda.is_available() else 'cpu') # using cuda\n",
    "cpu = torch.device('cpu') # using cpu"
   ]
  },
  {
   "attachments": {},
   "cell_type": "markdown",
   "metadata": {},
   "source": [
    "## Loading Tensors"
   ]
  },
  {
   "cell_type": "code",
   "execution_count": null,
   "metadata": {},
   "outputs": [],
   "source": [
    "X = torch.load('./data/X_tensor_'+str(elo)+'.pt').to(device)\n",
    "Y = torch.load('./data/Y_tensor_'+str(elo)+'.pt').to(device)\n",
    "print(X.shape)\n",
    "print(Y.shape)\n",
    "\n",
    "# seperating the Y\n",
    "Y1 = Y[:, :8]\n",
    "Y2 = Y[:, 8:16]\n",
    "Y3 = Y[:, 16:24]\n",
    "Y4 = Y[:, 24:32]\n",
    "Y5 = Y[:, 32:]\n",
    "\n",
    "Y = [Y1,Y2,Y3,Y4,Y5]"
   ]
  },
  {
   "attachments": {},
   "cell_type": "markdown",
   "metadata": {},
   "source": [
    "## Model class init"
   ]
  },
  {
   "cell_type": "code",
   "execution_count": null,
   "metadata": {},
   "outputs": [],
   "source": [
    "model = Neuro_gambit().to(device)\n",
    "\n",
    "# epochs, loss, and optim\n",
    "learning_rate = 0.01\n",
    "n_epochs = 1000000\n",
    "\n",
    "# loss and optimizer functions from pytorch\n",
    "criterion = nn.MSELoss() # MSE function\n",
    "optimizer = torch.optim.SGD(params=model.parameters(), lr=learning_rate) # stochastic gradient descent function"
   ]
  },
  {
   "attachments": {},
   "cell_type": "markdown",
   "metadata": {},
   "source": [
    "## Training"
   ]
  },
  {
   "cell_type": "code",
   "execution_count": null,
   "metadata": {},
   "outputs": [],
   "source": [
    "for epoch in range(n_epochs):\n",
    "    # forward\n",
    "    y_preds = model(X) # will output a tuple of 5 tensors\n",
    "\n",
    "    total_loss = 0\n",
    "    for i in range(len(y_preds)): # calculating the loss per tensor\n",
    "        y_pred = y_preds[i]\n",
    "        total_loss += criterion(y_pred, Y[i])\n",
    "\n",
    "    # backward\n",
    "    optimizer.zero_grad()\n",
    "    total_loss.backward()\n",
    "    optimizer.step()\n",
    "\n",
    "    if (epoch+1) % 5 == 0:\n",
    "        print(f'Epoch [{epoch+1}/{n_epochs}], Loss: {total_loss.item():.4f}', end='\\r')"
   ]
  },
  {
   "attachments": {},
   "cell_type": "markdown",
   "metadata": {},
   "source": [
    "## Saving the model"
   ]
  },
  {
   "cell_type": "code",
   "execution_count": 14,
   "metadata": {},
   "outputs": [],
   "source": [
    "# Save the model\n",
    "torch.save(model.state_dict(), './models/neuro_gambit_'+str(elo)+'.pt')"
   ]
  },
  {
   "attachments": {},
   "cell_type": "markdown",
   "metadata": {},
   "source": [
    "## Loading saved model"
   ]
  },
  {
   "cell_type": "code",
   "execution_count": null,
   "metadata": {},
   "outputs": [],
   "source": [
    "model.load_state_dict(torch.load('./models/neuro_gambit_'+str(elo)+'.pt')) # it takes the loaded dictionary, not the path file itself\n",
    "model.eval()"
   ]
  },
  {
   "attachments": {},
   "cell_type": "markdown",
   "metadata": {},
   "source": [
    "## Sample test"
   ]
  },
  {
   "cell_type": "code",
   "execution_count": 26,
   "metadata": {},
   "outputs": [
    {
     "name": "stdout",
     "output_type": "stream",
     "text": [
      "player: white\n",
      "best move: g1f3\n",
      "r n b q k b n r\n",
      "p p p p p p p p\n",
      ". . . . . . . .\n",
      ". . . . . . . .\n",
      ". . . . . . . .\n",
      ". . . . . . . .\n",
      "P P P P P P P P\n",
      "R N B Q K B N R\n",
      "prediction:\n",
      "prob of best move: 0.0002175282769278706\n",
      "{'move': 'e2e4', 'prob': 0.0022116274219224135}\n"
     ]
    }
   ],
   "source": [
    "import torch.nn.functional as F\n",
    "\n",
    "import chess\n",
    "from chess_transformation import linear_to_board, matrix_to_board, full_move_to_algebraic\n",
    "\n",
    "def get_all_possible_moves(board : list[str], player : str):\n",
    "    board : chess.Board = matrix_to_board(linear_to_board(board), player)\n",
    "    print(board)\n",
    "    possible_moves = []\n",
    "    player_col = chess.WHITE if player == 'white' else chess.BLACK\n",
    "    for move in board.legal_moves:\n",
    "        if board.turn == player_col:\n",
    "            uci_move = move.uci()\n",
    "            possible_moves.append(uci_move)\n",
    "\n",
    "    return possible_moves\n",
    "\n",
    "def get_move_probability(move : str, tensor_tuple : tuple[torch.Tensor]):\n",
    "    pos_rank_labels = {'a': 0, 'b': 1, 'c': 2, 'd': 3, 'e': 4, 'f': 5, 'g': 6, 'h': 7}\n",
    "    pos_file_labels = {'1': 0, '2': 1, '3': 2, '4': 3, '5': 4, '6': 5, '7': 6, '8': 7}\n",
    "    promotion_labels = {'q': 0, 'r': 1, 'b': 2, 'n': 3}\n",
    "\n",
    "    # restruct tensors to list matrix\n",
    "    tensor_matrix = []\n",
    "    for tensor in tensor_tuple:\n",
    "        tensor_list = F.softmax(tensor, dim=0).to(cpu).tolist()\n",
    "        tensor_matrix.append(tensor_list)\n",
    "\n",
    "    # get indices\n",
    "    o_r_i = pos_rank_labels[move[0]]\n",
    "    o_f_i = pos_file_labels[move[1]]\n",
    "    d_r_i = pos_rank_labels[move[2]]\n",
    "    d_f_i = pos_file_labels[move[3]]\n",
    "\n",
    "    # get probabilities\n",
    "    p_o_r = tensor_matrix[0][o_r_i]\n",
    "    p_o_f = tensor_matrix[1][o_f_i]\n",
    "    p_d_r = tensor_matrix[2][d_r_i]\n",
    "    p_d_f = tensor_matrix[3][d_f_i]\n",
    "\n",
    "    return p_o_r*p_o_f*p_d_r*p_d_f\n",
    "\n",
    "data_pandas = pd.read_csv('./data/games_cleaned_'+str(elo)+'_scrambled.csv')\n",
    "\n",
    "# Testing\n",
    "game = 100\n",
    "data_pandas = pd.read_csv('./data/games_cleaned_'+str(elo)+'_scrambled.csv')\n",
    "position_columns = ['p'+str(i) for i in range(64)]\n",
    "board_linear = data_pandas.iloc[game][position_columns].to_list()\n",
    "player = data_pandas.iloc[game]['player']\n",
    "# player = 'black'\n",
    "best = data_pandas.iloc[game]['uci']\n",
    "print('player:', player)\n",
    "print('best move:', best)\n",
    "\n",
    "\n",
    "possible_moves = get_all_possible_moves(board_linear, player)\n",
    "\n",
    "# for i in range(len(possible_moves)):\n",
    "#     print(possible_moves[i], end='\\n' if i%5==0 else ',')\n",
    "\n",
    "print('prediction:')\n",
    "with torch.no_grad():\n",
    "    x = X[game].view(1,-1)\n",
    "    y = Y[0][game],Y[1][game],Y[2][game],Y[3][game],Y[4][game]\n",
    "    y_preds = [t.view(-1,) for t in model(x)]\n",
    "    # print(y_preds)\n",
    "    # for y_iter in y:\n",
    "    #     print(y_iter)\n",
    "    # for y_pred in y_preds:\n",
    "    #     print(F.softmax(y_pred, dim=0))\n",
    "\n",
    "    possible_moves_probabilities = {move : get_move_probability(move, y_preds) for move in possible_moves}\n",
    "    print('prob of best move:', possible_moves_probabilities[best] if best in possible_moves_probabilities.keys() else '')\n",
    "    max_key_val = {'move' : '', 'prob' : 0}\n",
    "    for key in possible_moves_probabilities.keys():\n",
    "        value = possible_moves_probabilities[key]\n",
    "        if value > max_key_val['prob']:\n",
    "            max_key_val['move'] = key\n",
    "            max_key_val['prob'] = value\n",
    "    print(max_key_val)\n"
   ]
  }
 ],
 "metadata": {
  "kernelspec": {
   "display_name": "Python 3",
   "language": "python",
   "name": "python3"
  },
  "language_info": {
   "codemirror_mode": {
    "name": "ipython",
    "version": 3
   },
   "file_extension": ".py",
   "mimetype": "text/x-python",
   "name": "python",
   "nbconvert_exporter": "python",
   "pygments_lexer": "ipython3",
   "version": "3.10.6"
  },
  "orig_nbformat": 4
 },
 "nbformat": 4,
 "nbformat_minor": 2
}
