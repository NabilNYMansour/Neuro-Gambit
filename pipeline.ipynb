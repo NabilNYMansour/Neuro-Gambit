{
 "cells": [
  {
   "attachments": {},
   "cell_type": "markdown",
   "metadata": {},
   "source": [
    "## Imports"
   ]
  },
  {
   "cell_type": "code",
   "execution_count": 1,
   "metadata": {},
   "outputs": [],
   "source": [
    "import torch\n",
    "import torch.nn as nn\n",
    "from model import Neuro_gambit, Neuro_gambit_2, Neuro_gambit_3\n",
    "from torch.utils.data import DataLoader"
   ]
  },
  {
   "attachments": {},
   "cell_type": "markdown",
   "metadata": {},
   "source": [
    "## ELO or Year init"
   ]
  },
  {
   "cell_type": "code",
   "execution_count": 2,
   "metadata": {},
   "outputs": [],
   "source": [
    "elo_or_year = 2010"
   ]
  },
  {
   "attachments": {},
   "cell_type": "markdown",
   "metadata": {},
   "source": [
    "## Device init"
   ]
  },
  {
   "cell_type": "code",
   "execution_count": 3,
   "metadata": {},
   "outputs": [],
   "source": [
    "device = torch.device('cuda' if torch.cuda.is_available() else 'cpu') # using cuda\n",
    "cpu = torch.device('cpu') # using cpu"
   ]
  },
  {
   "attachments": {},
   "cell_type": "markdown",
   "metadata": {},
   "source": [
    "## Loading Tensors"
   ]
  },
  {
   "cell_type": "code",
   "execution_count": 5,
   "metadata": {},
   "outputs": [
    {
     "name": "stdout",
     "output_type": "stream",
     "text": [
      "torch.Size([312000, 833])\n",
      "torch.Size([312000, 36])\n",
      "312\n"
     ]
    }
   ],
   "source": [
    "batch_size = 1000\n",
    "\n",
    "X = torch.load('./large_data/X_tensor_'+str(elo_or_year)+'.pt')\n",
    "Y = torch.load('./large_data/Y_tensor_'+str(elo_or_year)+'.pt')\n",
    "\n",
    "print(X.shape)\n",
    "print(Y.shape)\n",
    "\n",
    "X_loader = DataLoader(X, batch_size=batch_size, shuffle=False)\n",
    "Y_loader = DataLoader(Y, batch_size=batch_size, shuffle=False)\n",
    "\n",
    "total_batches = len(X_loader)\n",
    "print(total_batches)"
   ]
  },
  {
   "attachments": {},
   "cell_type": "markdown",
   "metadata": {},
   "source": [
    "## Model class init"
   ]
  },
  {
   "cell_type": "code",
   "execution_count": 14,
   "metadata": {},
   "outputs": [
    {
     "name": "stdout",
     "output_type": "stream",
     "text": [
      "88\n"
     ]
    }
   ],
   "source": [
    "# model = Neuro_gambit().to(device)\n",
    "# model = Neuro_gambit_2().to(device)\n",
    "model = Neuro_gambit_3().to(device)\n",
    "\n",
    "print(model.parameters())"
   ]
  },
  {
   "attachments": {},
   "cell_type": "markdown",
   "metadata": {},
   "source": [
    "## Learning params init"
   ]
  },
  {
   "cell_type": "code",
   "execution_count": 7,
   "metadata": {},
   "outputs": [],
   "source": [
    "# epochs, loss, and optim\n",
    "learning_rate = 0.001\n",
    "n_epochs = 1000000\n",
    "\n",
    "# loss and optimizer functions from pytorch\n",
    "criterion = nn.MSELoss() # MSE function\n",
    "# optimizer = torch.optim.SGD(params=model.parameters(), lr=learning_rate) # stochastic gradient descent function\n",
    "optimizer = torch.optim.AdamW(params=model.parameters(), lr=learning_rate) # way better performance with AdamW than SGD"
   ]
  },
  {
   "attachments": {},
   "cell_type": "markdown",
   "metadata": {},
   "source": [
    "## Loading saved model"
   ]
  },
  {
   "cell_type": "code",
   "execution_count": null,
   "metadata": {},
   "outputs": [],
   "source": [
    "model.load_state_dict(torch.load('./models/'+str(model._get_name())+'_'+str(elo_or_year)+'.pt')) # it takes the loaded dictionary, not the path file itself\n",
    "model.eval()\n",
    "model.to(device)"
   ]
  },
  {
   "attachments": {},
   "cell_type": "markdown",
   "metadata": {},
   "source": [
    "## Current Loss"
   ]
  },
  {
   "cell_type": "code",
   "execution_count": null,
   "metadata": {},
   "outputs": [],
   "source": [
    "min_loss = 1\n",
    "\n",
    "# seperating the Y\n",
    "Y1 = Y[:, :8]\n",
    "Y2 = Y[:, 8:16]\n",
    "Y3 = Y[:, 16:24]\n",
    "Y4 = Y[:, 24:32]\n",
    "Y5 = Y[:, 32:]\n",
    "\n",
    "Y_list = [Y1,Y2,Y3,Y4,Y5]\n",
    "\n",
    "with torch.no_grad():\n",
    "    y_preds = model(X.to(device)) # will output a tuple of 5 tensors\n",
    "\n",
    "    total_loss = 0\n",
    "    for i in range(len(y_preds)): # calculating the loss per tensor\n",
    "        y_pred = y_preds[i]\n",
    "        total_loss += criterion(y_pred, Y_list[i].to(device))\n",
    "\n",
    "    print('Current loss:', f'{total_loss.item()*100:.3f}%')\n",
    "    min_loss = total_loss\n"
   ]
  },
  {
   "attachments": {},
   "cell_type": "markdown",
   "metadata": {},
   "source": [
    "## Training"
   ]
  },
  {
   "cell_type": "code",
   "execution_count": 8,
   "metadata": {},
   "outputs": [
    {
     "name": "stdout",
     "output_type": "stream",
     "text": [
      "Epoch [5/1000000], Batch [258/312], Loss: 0.3860\r"
     ]
    },
    {
     "ename": "KeyboardInterrupt",
     "evalue": "",
     "output_type": "error",
     "traceback": [
      "\u001b[0;31m---------------------------------------------------------------------------\u001b[0m",
      "\u001b[0;31mKeyboardInterrupt\u001b[0m                         Traceback (most recent call last)",
      "Cell \u001b[0;32mIn[8], line 29\u001b[0m\n\u001b[1;32m     26\u001b[0m optimizer\u001b[39m.\u001b[39mstep()\n\u001b[1;32m     28\u001b[0m \u001b[39mif\u001b[39;00m (batch\u001b[39m+\u001b[39m\u001b[39m1\u001b[39m) \u001b[39m%\u001b[39m \u001b[39m3\u001b[39m \u001b[39m==\u001b[39m \u001b[39m0\u001b[39m:\n\u001b[0;32m---> 29\u001b[0m     \u001b[39mprint\u001b[39m(\u001b[39mf\u001b[39m\u001b[39m'\u001b[39m\u001b[39mEpoch [\u001b[39m\u001b[39m{\u001b[39;00mepoch\u001b[39m+\u001b[39m\u001b[39m1\u001b[39m\u001b[39m}\u001b[39;00m\u001b[39m/\u001b[39m\u001b[39m{\u001b[39;00mn_epochs\u001b[39m}\u001b[39;00m\u001b[39m], Batch [\u001b[39m\u001b[39m{\u001b[39;00mbatch\u001b[39m+\u001b[39m\u001b[39m1\u001b[39m\u001b[39m}\u001b[39;00m\u001b[39m/\u001b[39m\u001b[39m{\u001b[39;00mtotal_batches\u001b[39m}\u001b[39;00m\u001b[39m], Loss: \u001b[39m\u001b[39m{\u001b[39;00mtotal_loss\u001b[39m.\u001b[39;49mitem()\u001b[39m:\u001b[39;00m\u001b[39m.4f\u001b[39m\u001b[39m}\u001b[39;00m\u001b[39m'\u001b[39m, end\u001b[39m=\u001b[39m\u001b[39m'\u001b[39m\u001b[39m\\r\u001b[39;00m\u001b[39m'\u001b[39m)\n\u001b[1;32m     30\u001b[0m batch\u001b[39m+\u001b[39m\u001b[39m=\u001b[39m\u001b[39m1\u001b[39m\n\u001b[1;32m     32\u001b[0m \u001b[39m# if total_loss.item() < min_loss:\u001b[39;00m\n\u001b[1;32m     33\u001b[0m \u001b[39m#     min_loss = total_loss.item()\u001b[39;00m\n\u001b[1;32m     34\u001b[0m \u001b[39m#     print('model saved, loss:', min_loss)\u001b[39;00m\n\u001b[1;32m     35\u001b[0m \u001b[39m#     torch.save(model.state_dict(), './models/'+str(model._get_name())+'_'+str(elo_or_year)+'.pt')\u001b[39;00m\n",
      "\u001b[0;31mKeyboardInterrupt\u001b[0m: "
     ]
    }
   ],
   "source": [
    "for epoch in range(n_epochs):\n",
    "    batch = 0\n",
    "    for X_batch, Y_batch in zip(X_loader, Y_loader):\n",
    "        X_batch = X_batch.to(device)\n",
    "        Y_batch = Y_batch.to(device)\n",
    "        # forward\n",
    "        y_preds = model(X_batch) # will output a tuple of 5 tensors\n",
    "\n",
    "        # seperating the Y\n",
    "        Y1 = Y_batch[:, :8]\n",
    "        Y2 = Y_batch[:, 8:16]\n",
    "        Y3 = Y_batch[:, 16:24]\n",
    "        Y4 = Y_batch[:, 24:32]\n",
    "        Y5 = Y_batch[:, 32:]\n",
    "\n",
    "        Y_list = [Y1,Y2,Y3,Y4,Y5]\n",
    "\n",
    "        total_loss = 0\n",
    "        for i in range(len(y_preds)): # calculating the loss per tensor\n",
    "            y_pred = y_preds[i]\n",
    "            total_loss += criterion(y_pred, Y_list[i])\n",
    "\n",
    "        # backward\n",
    "        optimizer.zero_grad()\n",
    "        total_loss.backward()\n",
    "        optimizer.step()\n",
    "\n",
    "        if (batch+1) % 3 == 0:\n",
    "            print(f'Epoch [{epoch+1}/{n_epochs}], Batch [{batch+1}/{total_batches}], Loss: {total_loss.item():.4f}', end='\\r')\n",
    "        batch+=1\n",
    "\n",
    "        # if total_loss.item() < min_loss:\n",
    "        #     min_loss = total_loss.item()\n",
    "        #     print('model saved, loss:', min_loss)\n",
    "        #     torch.save(model.state_dict(), './models/'+str(model._get_name())+'_'+str(elo_or_year)+'.pt')"
   ]
  },
  {
   "cell_type": "code",
   "execution_count": null,
   "metadata": {},
   "outputs": [],
   "source": [
    "# seperating the Y\n",
    "Y1 = Y[:, :8]\n",
    "Y2 = Y[:, 8:16]\n",
    "Y3 = Y[:, 16:24]\n",
    "Y4 = Y[:, 24:32]\n",
    "Y5 = Y[:, 32:]\n",
    "\n",
    "Y_list = [Y1,Y2,Y3,Y4,Y5]\n",
    "\n",
    "for epoch in range(n_epochs):\n",
    "    batch = 0\n",
    "    # forward\n",
    "    y_preds = model(X.to(device)) # will output a tuple of 5 tensors\n",
    "\n",
    "    total_loss = 0\n",
    "    for i in range(len(y_preds)): # calculating the loss per tensor\n",
    "        y_pred = y_preds[i]\n",
    "        total_loss += criterion(y_pred, Y_list[i].to(device))\n",
    "\n",
    "    # backward\n",
    "    optimizer.zero_grad()\n",
    "    total_loss.backward()\n",
    "    optimizer.step()\n",
    "\n",
    "    if (batch) % 2 == 0:\n",
    "        print(f'Epoch [{epoch+1}/{n_epochs}], Loss: {total_loss.item():.4f}', end='\\r')\n",
    "    batch+=1"
   ]
  },
  {
   "attachments": {},
   "cell_type": "markdown",
   "metadata": {},
   "source": [
    "## Saving the model"
   ]
  },
  {
   "cell_type": "code",
   "execution_count": 15,
   "metadata": {},
   "outputs": [
    {
     "name": "stdout",
     "output_type": "stream",
     "text": [
      "Model saved\n"
     ]
    }
   ],
   "source": [
    "# Save the model\n",
    "torch.save(model.state_dict(), './models/'+str(model._get_name())+'_'+str(elo_or_year)+'.pt')\n",
    "print('Model saved')"
   ]
  },
  {
   "cell_type": "code",
   "execution_count": null,
   "metadata": {},
   "outputs": [],
   "source": [
    "# Playing a game\n",
    "from model import get_best_move\n",
    "import chess\n",
    "import chess.svg\n",
    "import matplotlib.pyplot as plt\n",
    "from cairosvg import svg2png\n",
    "import cv2\n",
    "from IPython.display import clear_output\n",
    "\n",
    "def draw_board(current_board, ai_col_chess):\n",
    "    \"\"\"Draw board\n",
    "\n",
    "    Keyword arguments:\n",
    "    current_board -- chess.Board()\n",
    "    from https://colab.research.google.com/github/iAmEthanMai/chess-engine-model/blob/main/python_chess_engine.ipynb#scrollTo=yveIUxzjUr2b\n",
    "    \"\"\"\n",
    "    board_img = chess.svg.board(current_board, flipped=ai_col_chess==chess.WHITE)\n",
    "    svg2png(bytestring=board_img,write_to='./boards/board.png')\n",
    "    img = cv2.imread('./boards/board.png', 1)\n",
    "    fig, ax = plt.subplots(figsize=(6, 6))\n",
    "    ax.axis('off')\n",
    "    plt.imshow(img)\n",
    "\n",
    "\n",
    "def get_algebraic_notation(move_stack):\n",
    "    board = chess.Board()\n",
    "    algebraic_moves = []\n",
    "    \n",
    "    for move in move_stack:\n",
    "        algebraic_moves.append(board.san(move))\n",
    "        board.push(move)\n",
    "    \n",
    "    return algebraic_moves\n",
    "\n",
    "\n",
    "board = chess.Board()\n",
    "ai_col = 'black'\n",
    "ai_col_chess = chess.BLACK if ai_col == 'black' else chess.WHITE\n",
    "last = None\n",
    "while not board.is_game_over():\n",
    "    # render game\n",
    "    clear_output()\n",
    "    alg_move_stack = get_algebraic_notation(board.move_stack)\n",
    "    print(\" \".join(alg_move_stack))\n",
    "    print(\"Last AI move:\", alg_move_stack[-1] if alg_move_stack != [] else '', last)\n",
    "    draw_board(board, ai_col_chess)\n",
    "    plt.show()\n",
    "\n",
    "    # handle moves\n",
    "    if board.turn == ai_col_chess:\n",
    "        move_prob = get_best_move(model, board, ai_col)\n",
    "        last = move_prob\n",
    "        board.push_uci(move_prob['move'])\n",
    "    else:\n",
    "        try:\n",
    "            user_input = input() # your input in algebraic\n",
    "            board.push_san(user_input)\n",
    "        except chess.IllegalMoveError:\n",
    "            print('Illegal move:', user_input)\n",
    "print('Winner:', 'white' if board.turn == chess.BLACK else 'black')\n"
   ]
  },
  {
   "cell_type": "code",
   "execution_count": null,
   "metadata": {},
   "outputs": [],
   "source": [
    "# Playing a game with itself\n",
    "from model import get_best_move\n",
    "import chess\n",
    "import chess.svg\n",
    "import matplotlib.pyplot as plt\n",
    "from cairosvg import svg2png\n",
    "import cv2\n",
    "from IPython.display import clear_output\n",
    "\n",
    "def draw_board(current_board, ai_col_chess):\n",
    "    \"\"\"Draw board\n",
    "\n",
    "    Keyword arguments:\n",
    "    current_board -- chess.Board()\n",
    "    from https://colab.research.google.com/github/iAmEthanMai/chess-engine-model/blob/main/python_chess_engine.ipynb#scrollTo=yveIUxzjUr2b\n",
    "    \"\"\"\n",
    "    board_img = chess.svg.board(current_board, flipped=ai_col_chess==chess.WHITE)\n",
    "    svg2png(bytestring=board_img,write_to='./boards/board.png')\n",
    "    img = cv2.imread('./boards/board.png', 1)\n",
    "    fig, ax = plt.subplots(figsize=(6, 6))\n",
    "    ax.axis('off')\n",
    "    plt.imshow(img)\n",
    "\n",
    "\n",
    "def get_algebraic_notation(move_stack):\n",
    "    board = chess.Board()\n",
    "    algebraic_moves = []\n",
    "    \n",
    "    for move in move_stack:\n",
    "        algebraic_moves.append(board.san(move))\n",
    "        board.push(move)\n",
    "    \n",
    "    return algebraic_moves\n",
    "\n",
    "\n",
    "board = chess.Board()\n",
    "# ai_col_chess = chess.BLACK if ai_col == 'black' else chess.WHITE\n",
    "last = None\n",
    "while not board.is_game_over():\n",
    "    # handle moves\n",
    "    move_prob = get_best_move(model, board, 'black' if board.turn == chess.BLACK else \"white\")\n",
    "    last = move_prob\n",
    "    board.push_uci(move_prob['move'])\n",
    "alg_move_stack = get_algebraic_notation(board.move_stack)\n",
    "print(len(alg_move_stack))\n",
    "print(\" \".join(alg_move_stack))\n",
    "if board.is_variant_draw():\n",
    "    print(\"Draw\")\n",
    "else:\n",
    "    print('Winner:', 'white' if board.turn == chess.BLACK else 'black')"
   ]
  }
 ],
 "metadata": {
  "kernelspec": {
   "display_name": "Python 3",
   "language": "python",
   "name": "python3"
  },
  "language_info": {
   "codemirror_mode": {
    "name": "ipython",
    "version": 3
   },
   "file_extension": ".py",
   "mimetype": "text/x-python",
   "name": "python",
   "nbconvert_exporter": "python",
   "pygments_lexer": "ipython3",
   "version": "3.10.6"
  },
  "orig_nbformat": 4
 },
 "nbformat": 4,
 "nbformat_minor": 2
}
