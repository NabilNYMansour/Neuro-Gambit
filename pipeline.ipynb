{
 "cells": [
  {
   "attachments": {},
   "cell_type": "markdown",
   "metadata": {},
   "source": [
    "## Imports"
   ]
  },
  {
   "cell_type": "code",
   "execution_count": null,
   "metadata": {},
   "outputs": [],
   "source": [
    "import torch\n",
    "import torch.nn as nn\n",
    "import pandas as pd\n",
    "from model import Neuro_gambit"
   ]
  },
  {
   "attachments": {},
   "cell_type": "markdown",
   "metadata": {},
   "source": [
    "## ELO init"
   ]
  },
  {
   "cell_type": "code",
   "execution_count": null,
   "metadata": {},
   "outputs": [],
   "source": [
    "elo = 2000"
   ]
  },
  {
   "attachments": {},
   "cell_type": "markdown",
   "metadata": {},
   "source": [
    "## Device init"
   ]
  },
  {
   "cell_type": "code",
   "execution_count": null,
   "metadata": {},
   "outputs": [],
   "source": [
    "device = torch.device('cuda' if torch.cuda.is_available() else 'cpu') # using cuda\n",
    "cpu = torch.device('cpu') # using cpu"
   ]
  },
  {
   "attachments": {},
   "cell_type": "markdown",
   "metadata": {},
   "source": [
    "## Loading Tensors"
   ]
  },
  {
   "cell_type": "code",
   "execution_count": null,
   "metadata": {},
   "outputs": [],
   "source": [
    "X = torch.load('./data/X_tensor_'+str(elo)+'.pt').to(device)\n",
    "Y = torch.load('./data/Y_tensor_'+str(elo)+'.pt').to(device)\n",
    "print(X.shape)\n",
    "print(Y.shape)\n",
    "\n",
    "# seperating the Y\n",
    "Y1 = Y[:, :8]\n",
    "Y2 = Y[:, 8:16]\n",
    "Y3 = Y[:, 16:24]\n",
    "Y4 = Y[:, 24:32]\n",
    "Y5 = Y[:, 32:]\n",
    "\n",
    "Y = [Y1,Y2,Y3,Y4,Y5]"
   ]
  },
  {
   "attachments": {},
   "cell_type": "markdown",
   "metadata": {},
   "source": [
    "## Model class init"
   ]
  },
  {
   "cell_type": "code",
   "execution_count": null,
   "metadata": {},
   "outputs": [],
   "source": [
    "model = Neuro_gambit().to(device)\n",
    "\n",
    "# epochs, loss, and optim\n",
    "learning_rate = 0.01\n",
    "n_epochs = 1000000\n",
    "\n",
    "# loss and optimizer functions from pytorch\n",
    "criterion = nn.MSELoss() # MSE function\n",
    "optimizer = torch.optim.SGD(params=model.parameters(), lr=learning_rate) # stochastic gradient descent function"
   ]
  },
  {
   "attachments": {},
   "cell_type": "markdown",
   "metadata": {},
   "source": [
    "## Training"
   ]
  },
  {
   "cell_type": "code",
   "execution_count": null,
   "metadata": {},
   "outputs": [],
   "source": [
    "for epoch in range(n_epochs):\n",
    "    # forward\n",
    "    y_preds = model(X) # will output a tuple of 5 tensors\n",
    "\n",
    "    total_loss = 0\n",
    "    for i in range(len(y_preds)): # calculating the loss per tensor\n",
    "        y_pred = y_preds[i]\n",
    "        total_loss += criterion(y_pred, Y[i])\n",
    "\n",
    "    # backward\n",
    "    optimizer.zero_grad()\n",
    "    total_loss.backward()\n",
    "    optimizer.step()\n",
    "\n",
    "    if (epoch+1) % 100 == 0:\n",
    "        print(f'Epoch [{epoch+1}/{n_epochs}], Loss: {total_loss.item():.4f}', end='\\r')"
   ]
  },
  {
   "attachments": {},
   "cell_type": "markdown",
   "metadata": {},
   "source": [
    "## Saving the model"
   ]
  },
  {
   "cell_type": "code",
   "execution_count": null,
   "metadata": {},
   "outputs": [],
   "source": [
    "# Save the model\n",
    "torch.save(model.state_dict(), './models/neuro_gambit_'+str(elo)+'.pt')"
   ]
  },
  {
   "attachments": {},
   "cell_type": "markdown",
   "metadata": {},
   "source": [
    "## Loading saved model"
   ]
  },
  {
   "cell_type": "code",
   "execution_count": null,
   "metadata": {},
   "outputs": [],
   "source": [
    "model.load_state_dict(torch.load('./models/neuro_gambit_'+str(elo)+'.pt')) # it takes the loaded dictionary, not the path file itself\n",
    "model.eval()"
   ]
  },
  {
   "attachments": {},
   "cell_type": "markdown",
   "metadata": {},
   "source": [
    "## Sample test"
   ]
  },
  {
   "cell_type": "code",
   "execution_count": null,
   "metadata": {},
   "outputs": [],
   "source": [
    "import torch.nn.functional as F\n",
    "\n",
    "import chess\n",
    "from chess_transformation import linear_to_matrix, matrix_to_board, full_move_to_algebraic\n",
    "\n",
    "def get_all_possible_moves(board : chess.Board, player : str):\n",
    "    possible_moves = []\n",
    "    player_col = chess.WHITE if player == 'white' else chess.BLACK\n",
    "    for move in board.legal_moves:\n",
    "        if board.turn == player_col:\n",
    "            uci_move = move.uci()\n",
    "            possible_moves.append(uci_move)\n",
    "\n",
    "    return possible_moves\n",
    "\n",
    "def get_move_probability(move : str, tensor_tuple : tuple[torch.Tensor]):\n",
    "    pos_rank_labels = {'a': 0, 'b': 1, 'c': 2, 'd': 3, 'e': 4, 'f': 5, 'g': 6, 'h': 7}\n",
    "    pos_file_labels = {'1': 0, '2': 1, '3': 2, '4': 3, '5': 4, '6': 5, '7': 6, '8': 7}\n",
    "\n",
    "    # restruct tensors to list matrix\n",
    "    tensor_matrix = []\n",
    "    for tensor in tensor_tuple[:4]:\n",
    "        tensor_list = F.softmax(tensor, dim=0).to(cpu).tolist()\n",
    "        tensor_matrix.append(tensor_list)\n",
    "\n",
    "    # get indices\n",
    "    o_r_i = pos_rank_labels[move[0]]\n",
    "    o_f_i = pos_file_labels[move[1]]\n",
    "    d_r_i = pos_rank_labels[move[2]]\n",
    "    d_f_i = pos_file_labels[move[3]]\n",
    "\n",
    "    # get probabilities\n",
    "    p_o_r = tensor_matrix[0][o_r_i]\n",
    "    p_o_f = tensor_matrix[1][o_f_i]\n",
    "    p_d_r = tensor_matrix[2][d_r_i]\n",
    "    p_d_f = tensor_matrix[3][d_f_i]\n",
    "\n",
    "    return p_o_r*p_o_f*p_d_r*p_d_f\n",
    "\n",
    "def get_best_move(model : Neuro_gambit, board : list[str] | chess.Board, player : str):\n",
    "    if type(board) != chess.Board:\n",
    "        board : chess.Board = matrix_to_board(linear_to_matrix(board), player)\n",
    "    possible_moves = get_all_possible_moves(board, player)\n",
    "    with torch.no_grad():\n",
    "        output_tensor = model.forward_chess_board_input(board, player)\n",
    "    output_tensor_formatted = [t.view(-1,) for t in output_tensor]\n",
    "    possible_moves_probabilities = {move : get_move_probability(move, output_tensor_formatted) for move in possible_moves}\n",
    "    max_move_prob = {'move' : '', 'prob' : 0}\n",
    "    for move in possible_moves_probabilities.keys():\n",
    "        prob = possible_moves_probabilities[move]\n",
    "        if prob > max_move_prob['prob']:\n",
    "            max_move_prob['move'] = move\n",
    "            max_move_prob['prob'] = prob\n",
    "\n",
    "    if len(max_move_prob['move']) == 5: # there is a promotion\n",
    "        promotion_prediction = output_tensor_formatted[4].softmax(0).tolist()\n",
    "        index = promotion_prediction.index(max(promotion_prediction))\n",
    "        promotion_labels = {0 : 'q', 1 : 'r', 2 : 'b', 3 : 'n'}\n",
    "        max_move_prob['move'] = max_move_prob['move'][:4]+promotion_labels[index]\n",
    "\n",
    "    return max_move_prob"
   ]
  },
  {
   "cell_type": "code",
   "execution_count": null,
   "metadata": {},
   "outputs": [],
   "source": [
    "# Playing a game: poor performance. Model 2500 elo\n",
    "b = chess.Board()\n",
    "ai_col = 'black'\n",
    "\n",
    "b.push_san('e4')\n",
    "b.push_uci('c7c5')\n",
    "\n",
    "b.push_san('Bc4')\n",
    "b.push_uci('g8f6')\n",
    "\n",
    "b.push_san('d3')\n",
    "b.push_uci('d8c7')\n",
    "\n",
    "b.push_san('Nf3')\n",
    "b.push_uci('e8d8')\n",
    "\n",
    "b.push_san('Ng5')\n",
    "b.push_uci('b7b5')\n",
    "\n",
    "b.push_san('Nxf7+')\n",
    "b.push_uci('d8e8')\n",
    "\n",
    "b.push_san('Nxh8')\n",
    "b.push_uci('e8d8')\n",
    "\n",
    "b.push_san('Bxb5')\n",
    "b.push_uci('c8b7')\n",
    "\n",
    "b.push_san('Nf7+')\n",
    "b.push_uci('d8c8')\n",
    "\n",
    "b.push_san('O-O')\n",
    "b.push_uci('b7d5')\n",
    "\n",
    "b.push_san('exd5')\n",
    "b.push_uci('h7h5')\n",
    "\n",
    "b.push_san('Nc3')\n",
    "b.push_uci('d7d6')\n",
    "\n",
    "b.push_san('Bc6')\n",
    "b.push_uci('c7d8')\n",
    "\n",
    "b.push_san('Bxa8')\n",
    "b.push_uci('c5c4')\n",
    "\n",
    "b.push_san('dxc4')\n",
    "\n",
    "print(b)\n",
    "best = get_best_move(model, b, ai_col)\n",
    "print(best)"
   ]
  },
  {
   "cell_type": "code",
   "execution_count": null,
   "metadata": {},
   "outputs": [],
   "source": [
    "# Playing a game : huge mistake made. Model 2500 elo\n",
    "b = chess.Board()\n",
    "ai_col = 'white'\n",
    "\n",
    "b.push_san('e4')\n",
    "b.push_san('d5')\n",
    "\n",
    "b.push_san('exd5')\n",
    "b.push_san('Qxd5')\n",
    "\n",
    "b.push_san('Nc3')\n",
    "b.push_san('Qe6+')\n",
    "\n",
    "b.push_san('Ne4')\n",
    "b.push_san('Qxe4+')\n",
    "\n",
    "b.push_san('Qe2')\n",
    "b.push_san('Qxc2')\n",
    "\n",
    "b.push_san('Qg4')\n",
    "\n",
    "\n",
    "print(b)\n",
    "best = get_best_move(model, b, ai_col)\n",
    "print(best)"
   ]
  }
 ],
 "metadata": {
  "kernelspec": {
   "display_name": "Python 3",
   "language": "python",
   "name": "python3"
  },
  "language_info": {
   "codemirror_mode": {
    "name": "ipython",
    "version": 3
   },
   "file_extension": ".py",
   "mimetype": "text/x-python",
   "name": "python",
   "nbconvert_exporter": "python",
   "pygments_lexer": "ipython3",
   "version": "3.10.6"
  },
  "orig_nbformat": 4
 },
 "nbformat": 4,
 "nbformat_minor": 2
}
