{
 "cells": [
  {
   "cell_type": "code",
   "execution_count": 50,
   "metadata": {},
   "outputs": [
    {
     "name": "stdout",
     "output_type": "stream",
     "text": [
      "['a', 'b', 'c', 'd', 'e', 'f', 'g', 'h', 1, 2, 3, 4, 5, 6, 7, 8, 'a', 'b', 'c', 'd', 'e', 'f', 'g', 'h', 1, 2, 3, 4, 5, 6, 7, 8, 'Q', 'R', 'B', 'N']\n",
      "36\n"
     ]
    }
   ],
   "source": [
    "# Origin file\n",
    "o_file = ['a','b','c','d','e','f','g','h']\n",
    "\n",
    "# Origin rank\n",
    "o_rank = [1,2,3,4,5,6,7,8]\n",
    "\n",
    "# Piece neurons (might not be needed since the info is already there in the origin to destination)\n",
    "# piece = ['K','Q','B','N','R','P'] \n",
    "\n",
    "# Destination file\n",
    "d_file = ['a','b','c','d','e','f','g','h']\n",
    "\n",
    "# Destination rank\n",
    "d_rank = [1,2,3,4,5,6,7,8]\n",
    "\n",
    "# Edge cases\n",
    "promotion_type = ['Q','R','B','N']\n",
    "\n",
    "# output = piece+o_rank+o_file+d_rank+d_file+promotion_type+castling\n",
    "output = o_file+o_rank+d_file+d_rank+promotion_type\n",
    "print(output)\n",
    "print(len(output))"
   ]
  },
  {
   "cell_type": "code",
   "execution_count": 51,
   "metadata": {},
   "outputs": [
    {
     "name": "stdout",
     "output_type": "stream",
     "text": [
      "r n b q k b n r\n",
      "p p p . . . p p\n",
      ". . . p . p . .\n",
      ". . . . p . . .\n",
      ". . B . P . . .\n",
      ". . . . . N . .\n",
      "P P P P . P P P\n",
      "R N B Q K . . R\n",
      "e1g1\n",
      "O-O\n"
     ]
    }
   ],
   "source": [
    "import chess\n",
    "from chess_transformation import *\n",
    "\n",
    "def alg_to_uci(board, move):\n",
    "    move_obj = board.parse_san(move)  # Parse the move in algebraic notation\n",
    "    return str(move_obj)\n",
    "\n",
    "def uci_to_alg(board, full_move : str):\n",
    "    move_obj = chess.Move.from_uci(full_move)  # Convert the first 4 characters to a Move object\n",
    "    algebraic_move = board.san(move_obj)  # Convert the Move object to algebraic notation\n",
    "    return algebraic_move\n",
    "\n",
    "# Example usage\n",
    "# fen = '1rbqkbnr/P1pppppp/2n5/8/8/8/1PPPPPPP/RNBQKBNR w KQk - 1 5' # a8=Q\n",
    "fen = 'rnbqkbnr/ppp3pp/3p1p2/4p3/2B1P3/5N2/PPPP1PPP/RNBQK2R w KQkq - 0 4' # O-O\n",
    "board = chess.Board(fen)\n",
    "print(board)\n",
    "algebraic_move = \"O-O\"\n",
    "\n",
    "full_move = alg_to_uci(board, algebraic_move)\n",
    "print(full_move)\n",
    "\n",
    "algebraic_move_post = uci_to_alg(board, full_move)\n",
    "print(algebraic_move_post)"
   ]
  }
 ],
 "metadata": {
  "kernelspec": {
   "display_name": "Python 3",
   "language": "python",
   "name": "python3"
  },
  "language_info": {
   "codemirror_mode": {
    "name": "ipython",
    "version": 3
   },
   "file_extension": ".py",
   "mimetype": "text/x-python",
   "name": "python",
   "nbconvert_exporter": "python",
   "pygments_lexer": "ipython3",
   "version": "3.10.6"
  },
  "orig_nbformat": 4
 },
 "nbformat": 4,
 "nbformat_minor": 2
}
