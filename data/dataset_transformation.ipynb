{
 "cells": [
  {
   "attachments": {},
   "cell_type": "markdown",
   "metadata": {},
   "source": [
    "## ELO or Year init"
   ]
  },
  {
   "attachments": {},
   "cell_type": "markdown",
   "metadata": {},
   "source": [
    "Note: you should change the naming of the files as they don't always corrospond to the exact dataset u'd have in mind."
   ]
  },
  {
   "cell_type": "code",
   "execution_count": null,
   "metadata": {},
   "outputs": [],
   "source": [
    "elo_or_year = 2010"
   ]
  },
  {
   "attachments": {},
   "cell_type": "markdown",
   "metadata": {},
   "source": [
    "## Filter elo"
   ]
  },
  {
   "cell_type": "code",
   "execution_count": null,
   "metadata": {},
   "outputs": [],
   "source": [
    "# Filtering\n",
    "import pandas as pd\n",
    "\n",
    "games = pd.read_csv('./data/chess_data_2010_titled.csv')\n",
    "\n",
    "games = games[\n",
    "    (games['winner'] == 'white') & (games['white_rating'] > elo_or_year) |\n",
    "    (games['winner'] == 'black') & (games['black_rating'] > elo_or_year)\n",
    "    ]\n",
    "games = games.reset_index(drop=True)\n",
    "games = games[['winner', 'white_rating', 'black_rating', 'moves']]\n",
    "print('length:', len(games))\n",
    "print(games)\n",
    "\n",
    "games.to_csv(\"./data/games_\"+str(elo_or_year)+\".csv\", index=False)"
   ]
  },
  {
   "attachments": {},
   "cell_type": "markdown",
   "metadata": {},
   "source": [
    "## Load Filtered data"
   ]
  },
  {
   "cell_type": "code",
   "execution_count": null,
   "metadata": {},
   "outputs": [],
   "source": [
    "import pandas as pd\n",
    "\n",
    "games = pd.read_csv('./data/chess_data_2010_titled.csv')\n",
    "print(games)"
   ]
  },
  {
   "attachments": {},
   "cell_type": "markdown",
   "metadata": {},
   "source": [
    "## Set up dataframe"
   ]
  },
  {
   "cell_type": "code",
   "execution_count": null,
   "metadata": {},
   "outputs": [],
   "source": [
    "# columns titles\n",
    "positions = ['p'+str(i) for i in range(64)]\n",
    "columns = positions\n",
    "columns += ['player']\n",
    "# columns += ['alg'] # no need for alg\n",
    "columns += ['uci']\n",
    "print(columns)\n",
    "\n",
    "# dataframe init\n",
    "games_transformed = pd.DataFrame(columns=columns)\n",
    "\n",
    "# save headers\n",
    "# games_transformed.to_csv('./data/games_cleaned_'+str(elo_or_year)+'.csv', index=False, mode='a')"
   ]
  },
  {
   "attachments": {},
   "cell_type": "markdown",
   "metadata": {},
   "source": [
    "## Final filtering"
   ]
  },
  {
   "cell_type": "code",
   "execution_count": null,
   "metadata": {},
   "outputs": [],
   "source": [
    "from chess_transformation import *\n",
    "\n",
    "index = 0\n",
    "curr = 8130\n",
    "for i in range(curr, len(games)):\n",
    "# for i in range(1):\n",
    "    boards = []\n",
    "    move_list = []\n",
    "    game = games.iloc[i]\n",
    "\n",
    "    moves = game['moves']\n",
    "    winner = game['winner']\n",
    "    # print(moves)\n",
    "    # print(winner)\n",
    "\n",
    "    data = algebraic_game_to_training_dataset(moves, winner)\n",
    "\n",
    "    for j in range(len(data['boards'])):\n",
    "        board = data['boards'][j]\n",
    "        # alg = data['moves_alg'][j]\n",
    "        uci = data['moves_uci'][j]\n",
    "        # games_transformed.loc[index] = board+[winner]+[alg]+[uci]\n",
    "        games_transformed.loc[index] = board+[winner]+[uci]\n",
    "        index+=1\n",
    "        if index%1000 == 0: # save every 1000 games\n",
    "            games_transformed.to_csv('./data/games_cleaned_'+str(elo_or_year)+'.csv', index=False, mode='a', header=None)\n",
    "            games_transformed = pd.DataFrame(columns=columns)\n",
    "            print(str(i)+'/'+str(len(games)), end='\\r')\n",
    "\n",
    "\n",
    "# games_transformed.to_csv('./data/games_cleaned_'+str(elo_or_year)+'.csv', index=False)\n",
    "print(games_transformed)"
   ]
  },
  {
   "attachments": {},
   "cell_type": "markdown",
   "metadata": {},
   "source": [
    "## Scrambling"
   ]
  },
  {
   "cell_type": "code",
   "execution_count": null,
   "metadata": {},
   "outputs": [],
   "source": [
    "import pandas as pd\n",
    "\n",
    "games_cleaned = pd.read_csv('./data/games_cleaned_'+str(elo_or_year)+'.csv')\n",
    "games_cleaned = games_cleaned.sample(frac = 1).reset_index(drop=True)\n",
    "print(games_cleaned)\n",
    "games_cleaned.to_csv('./data/games_cleaned_'+str(elo_or_year)+'_scrambled.csv', index=False)"
   ]
  },
  {
   "attachments": {},
   "cell_type": "markdown",
   "metadata": {},
   "source": [
    "## Turning the data to tensors"
   ]
  },
  {
   "cell_type": "code",
   "execution_count": null,
   "metadata": {},
   "outputs": [],
   "source": [
    "import torch\n",
    "from model import one_hot_encode_labels, encode_player_col\n",
    "from chess_transformation import encode_uci\n",
    "import pandas as pd\n",
    "\n",
    "data_pandas = pd.read_csv('./data/games_cleaned_'+str(elo_or_year)+'_scrambled.csv')\n",
    "print(data_pandas)"
   ]
  },
  {
   "cell_type": "code",
   "execution_count": null,
   "metadata": {},
   "outputs": [],
   "source": [
    "position_columns = ['p'+str(i) for i in range(64)]\n",
    "\n",
    "X_pos_pandas = data_pandas[position_columns]\n",
    "X_col_pandas = data_pandas['player']\n",
    "\n",
    "X_pos_values = X_pos_pandas.values\n",
    "X_col_values = X_col_pandas.values\n",
    "X_list = []\n",
    "i = 0\n",
    "for i in range(len(X_pos_values)):\n",
    "    x_pos = X_pos_values[i]\n",
    "    x_pos_encoded = one_hot_encode_labels(x_pos)\n",
    "    x_col = X_col_values[i]\n",
    "    x_col_encoded = encode_player_col(x_col)\n",
    "\n",
    "    x = torch.cat((x_pos_encoded, x_col_encoded.unsqueeze(1)), dim=1)\n",
    "    X_list.append(x)\n",
    "\n",
    "X = torch.cat(X_list, dim=0)\n",
    "print(X.shape)\n",
    "torch.save(X, './large_data/X_tensor_'+str(elo_or_year)+'.pt')"
   ]
  },
  {
   "cell_type": "code",
   "execution_count": null,
   "metadata": {},
   "outputs": [],
   "source": [
    "Y_pandas = data_pandas['uci']\n",
    "Y_pandas_values = Y_pandas.values\n",
    "Y_list = []\n",
    "for i in range(len(Y_pandas_values)):\n",
    "    y_val = Y_pandas_values[i]\n",
    "    y = encode_uci(y_val)\n",
    "    Y_list.append(y)\n",
    "\n",
    "Y = torch.cat(Y_list, dim=0)\n",
    "print(Y.shape)\n",
    "torch.save(Y, './large_data/Y_tensor_'+str(elo_or_year)+'.pt')"
   ]
  }
 ],
 "metadata": {
  "kernelspec": {
   "display_name": "Python 3",
   "language": "python",
   "name": "python3"
  },
  "language_info": {
   "codemirror_mode": {
    "name": "ipython",
    "version": 3
   },
   "file_extension": ".py",
   "mimetype": "text/x-python",
   "name": "python",
   "nbconvert_exporter": "python",
   "pygments_lexer": "ipython3",
   "version": "3.10.6"
  },
  "orig_nbformat": 4
 },
 "nbformat": 4,
 "nbformat_minor": 2
}
