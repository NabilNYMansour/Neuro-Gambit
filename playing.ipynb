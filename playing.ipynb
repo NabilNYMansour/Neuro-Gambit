{
 "cells": [
  {
   "attachments": {},
   "cell_type": "markdown",
   "metadata": {},
   "source": [
    "## Load a model"
   ]
  },
  {
   "cell_type": "code",
   "execution_count": null,
   "metadata": {},
   "outputs": [],
   "source": [
    "import torch\n",
    "from model import *\n",
    "\n",
    "elo_or_year = 2010\n",
    "\n",
    "device = torch.device('cuda' if torch.cuda.is_available() else 'cpu') # using cuda\n",
    "print(\"Device:\", device)\n",
    "\n",
    "model = Neuro_gambit().to(device)\n",
    "print('Model initalized')\n",
    "\n",
    "model.load_state_dict(torch.load('./models/'+str(model._get_name())+'_'+str(elo_or_year)+'.pt')) # it takes the loaded dictionary, not the path file itself\n",
    "model.eval()\n",
    "model.to(device)\n",
    "print('Model loaded')"
   ]
  },
  {
   "attachments": {},
   "cell_type": "markdown",
   "metadata": {},
   "source": [
    "## Playing a game"
   ]
  },
  {
   "attachments": {},
   "cell_type": "markdown",
   "metadata": {},
   "source": [
    "### AI vs User"
   ]
  },
  {
   "cell_type": "code",
   "execution_count": null,
   "metadata": {},
   "outputs": [],
   "source": [
    "# Playing a game\n",
    "from model import get_best_move\n",
    "import chess\n",
    "import chess.svg\n",
    "import matplotlib.pyplot as plt\n",
    "from cairosvg import svg2png\n",
    "import cv2\n",
    "from IPython.display import clear_output\n",
    "\n",
    "def draw_board(current_board, ai_col_chess):\n",
    "    \"\"\"Draw board\n",
    "\n",
    "    Keyword arguments:\n",
    "    current_board -- chess.Board()\n",
    "    from https://colab.research.google.com/github/iAmEthanMai/chess-engine-model/blob/main/python_chess_engine.ipynb#scrollTo=yveIUxzjUr2b\n",
    "    \"\"\"\n",
    "    board_img = chess.svg.board(current_board, flipped=ai_col_chess==chess.WHITE)\n",
    "    svg2png(bytestring=board_img,write_to='./boards/board.png')\n",
    "    img = cv2.imread('./boards/board.png', 1)\n",
    "    fig, ax = plt.subplots(figsize=(6, 6))\n",
    "    ax.axis('off')\n",
    "    plt.imshow(img)\n",
    "\n",
    "\n",
    "def get_algebraic_notation(move_stack):\n",
    "    board = chess.Board()\n",
    "    algebraic_moves = []\n",
    "    \n",
    "    for move in move_stack:\n",
    "        algebraic_moves.append(board.san(move))\n",
    "        board.push(move)\n",
    "    \n",
    "    return algebraic_moves\n",
    "\n",
    "\n",
    "board = chess.Board()\n",
    "ai_col = 'black'\n",
    "ai_col_chess = chess.BLACK if ai_col == 'black' else chess.WHITE\n",
    "last = None\n",
    "while not board.is_game_over():\n",
    "    # render game\n",
    "    clear_output()\n",
    "    alg_move_stack = get_algebraic_notation(board.move_stack)\n",
    "    print(\" \".join(alg_move_stack))\n",
    "    print(\"Last AI move:\", alg_move_stack[-1] if alg_move_stack != [] else '', last)\n",
    "    draw_board(board, ai_col_chess)\n",
    "    plt.show()\n",
    "\n",
    "    # handle moves\n",
    "    if board.turn == ai_col_chess:\n",
    "        move_prob = get_best_move(model, board, ai_col)\n",
    "        last = move_prob\n",
    "        board.push_uci(move_prob['move'])\n",
    "    else:\n",
    "        try:\n",
    "            user_input = input() # your input in algebraic\n",
    "            board.push_san(user_input)\n",
    "        except chess.IllegalMoveError:\n",
    "            print('Illegal move:', user_input)\n",
    "print('Winner:', 'white' if board.turn == chess.BLACK else 'black')\n"
   ]
  },
  {
   "attachments": {},
   "cell_type": "markdown",
   "metadata": {},
   "source": [
    "### AI vs AI"
   ]
  },
  {
   "cell_type": "code",
   "execution_count": null,
   "metadata": {},
   "outputs": [],
   "source": [
    "from model import get_best_move\n",
    "import chess\n",
    "\n",
    "def get_algebraic_notation(move_stack):\n",
    "    board = chess.Board()\n",
    "    algebraic_moves = []\n",
    "    \n",
    "    for move in move_stack:\n",
    "        algebraic_moves.append(board.san(move))\n",
    "        board.push(move)\n",
    "    \n",
    "    return algebraic_moves\n",
    "\n",
    "\n",
    "board = chess.Board()\n",
    "# ai_col_chess = chess.BLACK if ai_col == 'black' else chess.WHITE\n",
    "last = None\n",
    "while not board.is_game_over():\n",
    "    # handle moves\n",
    "    move_prob = get_best_move(model, board, 'black' if board.turn == chess.BLACK else \"white\")\n",
    "    last = move_prob\n",
    "    board.push_uci(move_prob['move'])\n",
    "alg_move_stack = get_algebraic_notation(board.move_stack)\n",
    "print(len(alg_move_stack))\n",
    "print(\" \".join(alg_move_stack))"
   ]
  }
 ],
 "metadata": {
  "kernelspec": {
   "display_name": "Python 3",
   "language": "python",
   "name": "python3"
  },
  "language_info": {
   "codemirror_mode": {
    "name": "ipython",
    "version": 3
   },
   "file_extension": ".py",
   "mimetype": "text/x-python",
   "name": "python",
   "nbconvert_exporter": "python",
   "pygments_lexer": "ipython3",
   "version": "3.10.6"
  },
  "orig_nbformat": 4
 },
 "nbformat": 4,
 "nbformat_minor": 2
}
